{
  "cells": [
    {
      "cell_type": "markdown",
      "source": [
        "##1. 데이터 불러오기 및 전처리"
      ],
      "metadata": {
        "id": "fUe_YRZskrks"
      }
    },
    {
      "cell_type": "code",
      "execution_count": null,
      "metadata": {
        "id": "kbB4zgR17V1f"
      },
      "outputs": [],
      "source": [
        "!unzip -qq '/content/drive/MyDrive/BITAmin/2024 fall project nlp/TL_01._KAKAO(1).zip'"
      ]
    },
    {
      "cell_type": "code",
      "execution_count": null,
      "metadata": {
        "id": "xQKzOZxh7-4U"
      },
      "outputs": [],
      "source": [
        "# josn 데이터 여러 개 불러오기\n",
        "import os\n",
        "import json\n",
        "\n",
        "path = '/content'\n",
        "\n",
        "# 경로 내에 파일을 모두 불러옴\n",
        "file_list = os.listdir(path)\n",
        "\n",
        "# json 확장자를 가진 파일로 새로운 리스트 생성\n",
        "json_file_list = [file for file in file_list if file.endswith('.json')]\n",
        "\n",
        "# josn_file_list에는 json 파일들만 남아있게 된다."
      ]
    },
    {
      "cell_type": "code",
      "execution_count": null,
      "metadata": {
        "colab": {
          "base_uri": "https://localhost:8080/"
        },
        "id": "RV6tFsc5-2NM",
        "outputId": "a26def27-3f19-4a50-b730-b4695bc11324"
      },
      "outputs": [
        {
          "output_type": "execute_result",
          "data": {
            "text/plain": [
              "[]"
            ]
          },
          "metadata": {},
          "execution_count": 2
        }
      ],
      "source": [
        "json_file_list"
      ]
    },
    {
      "cell_type": "code",
      "execution_count": null,
      "metadata": {
        "colab": {
          "base_uri": "https://localhost:8080/"
        },
        "id": "JSOUXu8bACJ0",
        "outputId": "10185cda-3762-4e27-b9d0-14d34904bcf8"
      },
      "outputs": [
        {
          "output_type": "stream",
          "name": "stdout",
          "text": [
            "Error decoding JSON in file: KAKAO_1648_13.json - Expecting value: line 137 column 25 (char 4950)\n",
            "Files with errors: ['KAKAO_1648_13.json']\n"
          ]
        }
      ],
      "source": [
        "import json\n",
        "import os\n",
        "\n",
        "df = []  # 데이터를 저장할 리스트 생성\n",
        "error_files = []  # 오류가 발생한 파일을 저장할 리스트\n",
        "\n",
        "# json 파일을 하나씩 읽어서 리스트에 추가\n",
        "for json_file in json_file_list:\n",
        "    file_path = os.path.join(path, json_file)  # 파일의 전체 경로\n",
        "    try:\n",
        "        with open(file_path, \"r\", encoding=\"utf-8\") as f:  # 인코딩 명시\n",
        "            data = json.load(f)  # json 데이터 읽어오기  # 각 json 데이터를 리스트에 추가\n",
        "            for info in data['info']:\n",
        "               subject = info['annotations']['subject']\n",
        "               speaker_type = info['annotations']['speaker_type']\n",
        "               text = info['annotations']['text']\n",
        "               df.append({'subject': subject, 'speaker_type': speaker_type, 'text': text})\n",
        "    except json.JSONDecodeError as e:\n",
        "        print(f\"Error decoding JSON in file: {json_file} - {e}\")\n",
        "        error_files.append(json_file)  # 오류 발생 파일 리스트에 추가\n",
        "    except Exception as e:\n",
        "        print(f\"Unexpected error in file: {json_file} - {e}\")\n",
        "        error_files.append(json_file)\n",
        "\n",
        "if error_files:\n",
        "    print(\"Files with errors:\", error_files)\n"
      ]
    },
    {
      "cell_type": "code",
      "execution_count": null,
      "metadata": {
        "id": "cYU_bcLlvu1W"
      },
      "outputs": [],
      "source": [
        "import pandas as pd"
      ]
    },
    {
      "cell_type": "code",
      "execution_count": null,
      "metadata": {
        "id": "spIwOcGK-Xga"
      },
      "outputs": [],
      "source": [
        "df = pd.DataFrame(df)"
      ]
    },
    {
      "cell_type": "code",
      "execution_count": null,
      "metadata": {
        "colab": {
          "base_uri": "https://localhost:8080/",
          "height": 423
        },
        "id": "_W_uhKi7A3cg",
        "outputId": "de511f24-77f0-4018-b8df-69158c4d6954"
      },
      "outputs": [
        {
          "output_type": "execute_result",
          "data": {
            "text/plain": [
              "      subject speaker_type                                               text\n",
              "0      스포츠/레저       다자간 대화  1 : 근데 나 산책 다닐 때 보면 남자랑은 여자랑 진짜 다른 게 느껴지는데\\n1 ...\n",
              "1      주거와 생활       다자간 대화  1 : 흠 자취하면 좋은점이 뭐야?\\n2 : 그러게 나도 자취하고 싶은데 궁금하다 ...\n",
              "2          게임          1:1  1 : 니는 어릴 때 오락실 자주 갔었나? 키키\\n2 : 나 중딩 때 오락실 자주 ...\n",
              "3          게임          1:1  1 : 키키 ** 혹시 부루마블 같은 거 보드게임은 좀 해봐썽?\\n2 : 웅 그것도...\n",
              "4          교육          1:1  1 : 학생 때가 그립당 맞지?\\n2 : 그치 지금 생각 해보면 아무 생각 없이 학...\n",
              "...       ...          ...                                                ...\n",
              "17994  상거래 전반          1:1  1 : 너 혹시 주식해? 키키\\n1 : 좀 전에 확인했다가 좌절...\\n2 : 키키...\n",
              "17995      여행          1:1  1 : 제주도 갔을 때 숙소랑 경로 다 알아보고 갔어?\\n2 : 다 알아봤지 하하 ...\n",
              "17996   연애/결혼          1:1  1 : 너 지금 연애 중이야?\\n2 : 아니 나는 아직 혼자야 ㅠㅠ\\n1 : 오 동...\n",
              "17997  스포츠/레저       다자간 대화  1 : 우리 햄스터 말고 등산 가서 다람쥐 구경하자\\n2 : 담 주에 최고 온도 1...\n",
              "17998   방송/연예       다자간 대화  1 : 요즘 엠넷 스트리트 우먼 파이터를 열심히 보고 있어~\\n1 : 연기자가 아닌...\n",
              "\n",
              "[17999 rows x 3 columns]"
            ],
            "text/html": [
              "\n",
              "  <div id=\"df-d2f642ad-0368-472c-b7cd-3dadcf0c5c72\" class=\"colab-df-container\">\n",
              "    <div>\n",
              "<style scoped>\n",
              "    .dataframe tbody tr th:only-of-type {\n",
              "        vertical-align: middle;\n",
              "    }\n",
              "\n",
              "    .dataframe tbody tr th {\n",
              "        vertical-align: top;\n",
              "    }\n",
              "\n",
              "    .dataframe thead th {\n",
              "        text-align: right;\n",
              "    }\n",
              "</style>\n",
              "<table border=\"1\" class=\"dataframe\">\n",
              "  <thead>\n",
              "    <tr style=\"text-align: right;\">\n",
              "      <th></th>\n",
              "      <th>subject</th>\n",
              "      <th>speaker_type</th>\n",
              "      <th>text</th>\n",
              "    </tr>\n",
              "  </thead>\n",
              "  <tbody>\n",
              "    <tr>\n",
              "      <th>0</th>\n",
              "      <td>스포츠/레저</td>\n",
              "      <td>다자간 대화</td>\n",
              "      <td>1 : 근데 나 산책 다닐 때 보면 남자랑은 여자랑 진짜 다른 게 느껴지는데\\n1 ...</td>\n",
              "    </tr>\n",
              "    <tr>\n",
              "      <th>1</th>\n",
              "      <td>주거와 생활</td>\n",
              "      <td>다자간 대화</td>\n",
              "      <td>1 : 흠 자취하면 좋은점이 뭐야?\\n2 : 그러게 나도 자취하고 싶은데 궁금하다 ...</td>\n",
              "    </tr>\n",
              "    <tr>\n",
              "      <th>2</th>\n",
              "      <td>게임</td>\n",
              "      <td>1:1</td>\n",
              "      <td>1 : 니는 어릴 때 오락실 자주 갔었나? 키키\\n2 : 나 중딩 때 오락실 자주 ...</td>\n",
              "    </tr>\n",
              "    <tr>\n",
              "      <th>3</th>\n",
              "      <td>게임</td>\n",
              "      <td>1:1</td>\n",
              "      <td>1 : 키키 ** 혹시 부루마블 같은 거 보드게임은 좀 해봐썽?\\n2 : 웅 그것도...</td>\n",
              "    </tr>\n",
              "    <tr>\n",
              "      <th>4</th>\n",
              "      <td>교육</td>\n",
              "      <td>1:1</td>\n",
              "      <td>1 : 학생 때가 그립당 맞지?\\n2 : 그치 지금 생각 해보면 아무 생각 없이 학...</td>\n",
              "    </tr>\n",
              "    <tr>\n",
              "      <th>...</th>\n",
              "      <td>...</td>\n",
              "      <td>...</td>\n",
              "      <td>...</td>\n",
              "    </tr>\n",
              "    <tr>\n",
              "      <th>17994</th>\n",
              "      <td>상거래 전반</td>\n",
              "      <td>1:1</td>\n",
              "      <td>1 : 너 혹시 주식해? 키키\\n1 : 좀 전에 확인했다가 좌절...\\n2 : 키키...</td>\n",
              "    </tr>\n",
              "    <tr>\n",
              "      <th>17995</th>\n",
              "      <td>여행</td>\n",
              "      <td>1:1</td>\n",
              "      <td>1 : 제주도 갔을 때 숙소랑 경로 다 알아보고 갔어?\\n2 : 다 알아봤지 하하 ...</td>\n",
              "    </tr>\n",
              "    <tr>\n",
              "      <th>17996</th>\n",
              "      <td>연애/결혼</td>\n",
              "      <td>1:1</td>\n",
              "      <td>1 : 너 지금 연애 중이야?\\n2 : 아니 나는 아직 혼자야 ㅠㅠ\\n1 : 오 동...</td>\n",
              "    </tr>\n",
              "    <tr>\n",
              "      <th>17997</th>\n",
              "      <td>스포츠/레저</td>\n",
              "      <td>다자간 대화</td>\n",
              "      <td>1 : 우리 햄스터 말고 등산 가서 다람쥐 구경하자\\n2 : 담 주에 최고 온도 1...</td>\n",
              "    </tr>\n",
              "    <tr>\n",
              "      <th>17998</th>\n",
              "      <td>방송/연예</td>\n",
              "      <td>다자간 대화</td>\n",
              "      <td>1 : 요즘 엠넷 스트리트 우먼 파이터를 열심히 보고 있어~\\n1 : 연기자가 아닌...</td>\n",
              "    </tr>\n",
              "  </tbody>\n",
              "</table>\n",
              "<p>17999 rows × 3 columns</p>\n",
              "</div>\n",
              "    <div class=\"colab-df-buttons\">\n",
              "\n",
              "  <div class=\"colab-df-container\">\n",
              "    <button class=\"colab-df-convert\" onclick=\"convertToInteractive('df-d2f642ad-0368-472c-b7cd-3dadcf0c5c72')\"\n",
              "            title=\"Convert this dataframe to an interactive table.\"\n",
              "            style=\"display:none;\">\n",
              "\n",
              "  <svg xmlns=\"http://www.w3.org/2000/svg\" height=\"24px\" viewBox=\"0 -960 960 960\">\n",
              "    <path d=\"M120-120v-720h720v720H120Zm60-500h600v-160H180v160Zm220 220h160v-160H400v160Zm0 220h160v-160H400v160ZM180-400h160v-160H180v160Zm440 0h160v-160H620v160ZM180-180h160v-160H180v160Zm440 0h160v-160H620v160Z\"/>\n",
              "  </svg>\n",
              "    </button>\n",
              "\n",
              "  <style>\n",
              "    .colab-df-container {\n",
              "      display:flex;\n",
              "      gap: 12px;\n",
              "    }\n",
              "\n",
              "    .colab-df-convert {\n",
              "      background-color: #E8F0FE;\n",
              "      border: none;\n",
              "      border-radius: 50%;\n",
              "      cursor: pointer;\n",
              "      display: none;\n",
              "      fill: #1967D2;\n",
              "      height: 32px;\n",
              "      padding: 0 0 0 0;\n",
              "      width: 32px;\n",
              "    }\n",
              "\n",
              "    .colab-df-convert:hover {\n",
              "      background-color: #E2EBFA;\n",
              "      box-shadow: 0px 1px 2px rgba(60, 64, 67, 0.3), 0px 1px 3px 1px rgba(60, 64, 67, 0.15);\n",
              "      fill: #174EA6;\n",
              "    }\n",
              "\n",
              "    .colab-df-buttons div {\n",
              "      margin-bottom: 4px;\n",
              "    }\n",
              "\n",
              "    [theme=dark] .colab-df-convert {\n",
              "      background-color: #3B4455;\n",
              "      fill: #D2E3FC;\n",
              "    }\n",
              "\n",
              "    [theme=dark] .colab-df-convert:hover {\n",
              "      background-color: #434B5C;\n",
              "      box-shadow: 0px 1px 3px 1px rgba(0, 0, 0, 0.15);\n",
              "      filter: drop-shadow(0px 1px 2px rgba(0, 0, 0, 0.3));\n",
              "      fill: #FFFFFF;\n",
              "    }\n",
              "  </style>\n",
              "\n",
              "    <script>\n",
              "      const buttonEl =\n",
              "        document.querySelector('#df-d2f642ad-0368-472c-b7cd-3dadcf0c5c72 button.colab-df-convert');\n",
              "      buttonEl.style.display =\n",
              "        google.colab.kernel.accessAllowed ? 'block' : 'none';\n",
              "\n",
              "      async function convertToInteractive(key) {\n",
              "        const element = document.querySelector('#df-d2f642ad-0368-472c-b7cd-3dadcf0c5c72');\n",
              "        const dataTable =\n",
              "          await google.colab.kernel.invokeFunction('convertToInteractive',\n",
              "                                                    [key], {});\n",
              "        if (!dataTable) return;\n",
              "\n",
              "        const docLinkHtml = 'Like what you see? Visit the ' +\n",
              "          '<a target=\"_blank\" href=https://colab.research.google.com/notebooks/data_table.ipynb>data table notebook</a>'\n",
              "          + ' to learn more about interactive tables.';\n",
              "        element.innerHTML = '';\n",
              "        dataTable['output_type'] = 'display_data';\n",
              "        await google.colab.output.renderOutput(dataTable, element);\n",
              "        const docLink = document.createElement('div');\n",
              "        docLink.innerHTML = docLinkHtml;\n",
              "        element.appendChild(docLink);\n",
              "      }\n",
              "    </script>\n",
              "  </div>\n",
              "\n",
              "\n",
              "<div id=\"df-22de865b-dcaa-4209-87de-11e2f8fe70dc\">\n",
              "  <button class=\"colab-df-quickchart\" onclick=\"quickchart('df-22de865b-dcaa-4209-87de-11e2f8fe70dc')\"\n",
              "            title=\"Suggest charts\"\n",
              "            style=\"display:none;\">\n",
              "\n",
              "<svg xmlns=\"http://www.w3.org/2000/svg\" height=\"24px\"viewBox=\"0 0 24 24\"\n",
              "     width=\"24px\">\n",
              "    <g>\n",
              "        <path d=\"M19 3H5c-1.1 0-2 .9-2 2v14c0 1.1.9 2 2 2h14c1.1 0 2-.9 2-2V5c0-1.1-.9-2-2-2zM9 17H7v-7h2v7zm4 0h-2V7h2v10zm4 0h-2v-4h2v4z\"/>\n",
              "    </g>\n",
              "</svg>\n",
              "  </button>\n",
              "\n",
              "<style>\n",
              "  .colab-df-quickchart {\n",
              "      --bg-color: #E8F0FE;\n",
              "      --fill-color: #1967D2;\n",
              "      --hover-bg-color: #E2EBFA;\n",
              "      --hover-fill-color: #174EA6;\n",
              "      --disabled-fill-color: #AAA;\n",
              "      --disabled-bg-color: #DDD;\n",
              "  }\n",
              "\n",
              "  [theme=dark] .colab-df-quickchart {\n",
              "      --bg-color: #3B4455;\n",
              "      --fill-color: #D2E3FC;\n",
              "      --hover-bg-color: #434B5C;\n",
              "      --hover-fill-color: #FFFFFF;\n",
              "      --disabled-bg-color: #3B4455;\n",
              "      --disabled-fill-color: #666;\n",
              "  }\n",
              "\n",
              "  .colab-df-quickchart {\n",
              "    background-color: var(--bg-color);\n",
              "    border: none;\n",
              "    border-radius: 50%;\n",
              "    cursor: pointer;\n",
              "    display: none;\n",
              "    fill: var(--fill-color);\n",
              "    height: 32px;\n",
              "    padding: 0;\n",
              "    width: 32px;\n",
              "  }\n",
              "\n",
              "  .colab-df-quickchart:hover {\n",
              "    background-color: var(--hover-bg-color);\n",
              "    box-shadow: 0 1px 2px rgba(60, 64, 67, 0.3), 0 1px 3px 1px rgba(60, 64, 67, 0.15);\n",
              "    fill: var(--button-hover-fill-color);\n",
              "  }\n",
              "\n",
              "  .colab-df-quickchart-complete:disabled,\n",
              "  .colab-df-quickchart-complete:disabled:hover {\n",
              "    background-color: var(--disabled-bg-color);\n",
              "    fill: var(--disabled-fill-color);\n",
              "    box-shadow: none;\n",
              "  }\n",
              "\n",
              "  .colab-df-spinner {\n",
              "    border: 2px solid var(--fill-color);\n",
              "    border-color: transparent;\n",
              "    border-bottom-color: var(--fill-color);\n",
              "    animation:\n",
              "      spin 1s steps(1) infinite;\n",
              "  }\n",
              "\n",
              "  @keyframes spin {\n",
              "    0% {\n",
              "      border-color: transparent;\n",
              "      border-bottom-color: var(--fill-color);\n",
              "      border-left-color: var(--fill-color);\n",
              "    }\n",
              "    20% {\n",
              "      border-color: transparent;\n",
              "      border-left-color: var(--fill-color);\n",
              "      border-top-color: var(--fill-color);\n",
              "    }\n",
              "    30% {\n",
              "      border-color: transparent;\n",
              "      border-left-color: var(--fill-color);\n",
              "      border-top-color: var(--fill-color);\n",
              "      border-right-color: var(--fill-color);\n",
              "    }\n",
              "    40% {\n",
              "      border-color: transparent;\n",
              "      border-right-color: var(--fill-color);\n",
              "      border-top-color: var(--fill-color);\n",
              "    }\n",
              "    60% {\n",
              "      border-color: transparent;\n",
              "      border-right-color: var(--fill-color);\n",
              "    }\n",
              "    80% {\n",
              "      border-color: transparent;\n",
              "      border-right-color: var(--fill-color);\n",
              "      border-bottom-color: var(--fill-color);\n",
              "    }\n",
              "    90% {\n",
              "      border-color: transparent;\n",
              "      border-bottom-color: var(--fill-color);\n",
              "    }\n",
              "  }\n",
              "</style>\n",
              "\n",
              "  <script>\n",
              "    async function quickchart(key) {\n",
              "      const quickchartButtonEl =\n",
              "        document.querySelector('#' + key + ' button');\n",
              "      quickchartButtonEl.disabled = true;  // To prevent multiple clicks.\n",
              "      quickchartButtonEl.classList.add('colab-df-spinner');\n",
              "      try {\n",
              "        const charts = await google.colab.kernel.invokeFunction(\n",
              "            'suggestCharts', [key], {});\n",
              "      } catch (error) {\n",
              "        console.error('Error during call to suggestCharts:', error);\n",
              "      }\n",
              "      quickchartButtonEl.classList.remove('colab-df-spinner');\n",
              "      quickchartButtonEl.classList.add('colab-df-quickchart-complete');\n",
              "    }\n",
              "    (() => {\n",
              "      let quickchartButtonEl =\n",
              "        document.querySelector('#df-22de865b-dcaa-4209-87de-11e2f8fe70dc button');\n",
              "      quickchartButtonEl.style.display =\n",
              "        google.colab.kernel.accessAllowed ? 'block' : 'none';\n",
              "    })();\n",
              "  </script>\n",
              "</div>\n",
              "\n",
              "  <div id=\"id_5db61fc1-a42d-4884-ad83-7c8bdb1702ca\">\n",
              "    <style>\n",
              "      .colab-df-generate {\n",
              "        background-color: #E8F0FE;\n",
              "        border: none;\n",
              "        border-radius: 50%;\n",
              "        cursor: pointer;\n",
              "        display: none;\n",
              "        fill: #1967D2;\n",
              "        height: 32px;\n",
              "        padding: 0 0 0 0;\n",
              "        width: 32px;\n",
              "      }\n",
              "\n",
              "      .colab-df-generate:hover {\n",
              "        background-color: #E2EBFA;\n",
              "        box-shadow: 0px 1px 2px rgba(60, 64, 67, 0.3), 0px 1px 3px 1px rgba(60, 64, 67, 0.15);\n",
              "        fill: #174EA6;\n",
              "      }\n",
              "\n",
              "      [theme=dark] .colab-df-generate {\n",
              "        background-color: #3B4455;\n",
              "        fill: #D2E3FC;\n",
              "      }\n",
              "\n",
              "      [theme=dark] .colab-df-generate:hover {\n",
              "        background-color: #434B5C;\n",
              "        box-shadow: 0px 1px 3px 1px rgba(0, 0, 0, 0.15);\n",
              "        filter: drop-shadow(0px 1px 2px rgba(0, 0, 0, 0.3));\n",
              "        fill: #FFFFFF;\n",
              "      }\n",
              "    </style>\n",
              "    <button class=\"colab-df-generate\" onclick=\"generateWithVariable('df')\"\n",
              "            title=\"Generate code using this dataframe.\"\n",
              "            style=\"display:none;\">\n",
              "\n",
              "  <svg xmlns=\"http://www.w3.org/2000/svg\" height=\"24px\"viewBox=\"0 0 24 24\"\n",
              "       width=\"24px\">\n",
              "    <path d=\"M7,19H8.4L18.45,9,17,7.55,7,17.6ZM5,21V16.75L18.45,3.32a2,2,0,0,1,2.83,0l1.4,1.43a1.91,1.91,0,0,1,.58,1.4,1.91,1.91,0,0,1-.58,1.4L9.25,21ZM18.45,9,17,7.55Zm-12,3A5.31,5.31,0,0,0,4.9,8.1,5.31,5.31,0,0,0,1,6.5,5.31,5.31,0,0,0,4.9,4.9,5.31,5.31,0,0,0,6.5,1,5.31,5.31,0,0,0,8.1,4.9,5.31,5.31,0,0,0,12,6.5,5.46,5.46,0,0,0,6.5,12Z\"/>\n",
              "  </svg>\n",
              "    </button>\n",
              "    <script>\n",
              "      (() => {\n",
              "      const buttonEl =\n",
              "        document.querySelector('#id_5db61fc1-a42d-4884-ad83-7c8bdb1702ca button.colab-df-generate');\n",
              "      buttonEl.style.display =\n",
              "        google.colab.kernel.accessAllowed ? 'block' : 'none';\n",
              "\n",
              "      buttonEl.onclick = () => {\n",
              "        google.colab.notebook.generateWithVariable('df');\n",
              "      }\n",
              "      })();\n",
              "    </script>\n",
              "  </div>\n",
              "\n",
              "    </div>\n",
              "  </div>\n"
            ],
            "application/vnd.google.colaboratory.intrinsic+json": {
              "type": "dataframe",
              "variable_name": "df",
              "summary": "{\n  \"name\": \"df\",\n  \"rows\": 17999,\n  \"fields\": [\n    {\n      \"column\": \"subject\",\n      \"properties\": {\n        \"dtype\": \"category\",\n        \"num_unique_values\": 21,\n        \"samples\": [\n          \"\\uc2a4\\ud3ec\\uce20/\\ub808\\uc800\",\n          \"\\uac00\\uc871\",\n          \"\\uacc4\\uc808/\\ub0a0\\uc528\"\n        ],\n        \"semantic_type\": \"\",\n        \"description\": \"\"\n      }\n    },\n    {\n      \"column\": \"speaker_type\",\n      \"properties\": {\n        \"dtype\": \"category\",\n        \"num_unique_values\": 2,\n        \"samples\": [\n          \"1:1\",\n          \"\\ub2e4\\uc790\\uac04 \\ub300\\ud654\"\n        ],\n        \"semantic_type\": \"\",\n        \"description\": \"\"\n      }\n    },\n    {\n      \"column\": \"text\",\n      \"properties\": {\n        \"dtype\": \"string\",\n        \"num_unique_values\": 17999,\n        \"samples\": [\n          \"1 : \\uc544\\ub2c8 \\uc6b0\\uc8fc \\uc5ec\\ud589 \\uac00\\ub294 \\uac70 \\uc544\\uc2ed\\ub2c8\\uae4c?\\n2 : \\uc6b0\\uc8fc \\uc5ec\\ud589 \\ub3c8\\uc774 \\uc9d1 \\uc0ac\\ub294 \\ub3c8\\ubcf4\\ub2e4 \\uc2f8\\ub358\\ub370 \\ud0a4\\ud0a4\\n1 : \\ubc8c\\uc368 2\\ubc88\\uc9f8 \\uc5ec\\ud589\\uc744 \\uace7 \\ub5a0\\ub09c\\ub2e4\\ub124\\uc720\\n2 : \\ud0a4\\ud0a4 \\uc640\\uc6b0... \\uc5ec\\ud589 \\uac00\\uba74 \\ubcfc \\uac8c \\uc788\\ub098\\n1 : \\ud0a4\\ud0a4 \\uc5e5 600\\uc5b5\\uc778\\ub370...?\\n1 : \\ub108\\ub124 \\uc9d1 \\uc5bc\\ub9c8\\uae38\\ub798...\\n2 : \\ud0a4\\ud0a4 \\uc544... \\uc544\\ub2cc\\ub370\\n2 : \\ub098 2\\uc5b5 5\\ucc9c\\uc73c\\ub85c \\ubd24\\ub294\\ub370 \\uc6b0\\uc8fc \\uc5ec\\ud589\\ube44 \\ud0a4\\ud0a4\\n1 : \\ubb50 \\uc9c0\\uad6c\\ub098 \\ubcf4\\uace0 \\uadf8\\ub7f0 \\uac70 \\uc544\\ub0d0?\\n2 : \\ud0a4\\ud0a4 \\uc9c0\\uad6c \\uc548\\uc5d0 \\uc0b4\\uc544\\uc11c \\ud765\\ubbf8\\ub294 \\uc5c6\\uc2b5\\ub2c8\\ub2e4\\n1 : 2\\uc5b5 5\\ucc9c? 600\\uc5b5\\uc774\\ub77c\\ub358\\ub370? \\ubb34\\uc5c7\\n2 : \\uc11c\\ub85c \\ub2e4\\ub978 \\uac70 \\ubcf8 \\ub4ef...\\n2 : \\ubb50\\uac00 \\ub9de\\ub294 \\uac70\\ub2c8\\n1 : \\ud0a4\\ud0a4 \\ub09c \\uc878 \\uac00 \\ubcf4\\uace0 \\uc2f6\\uc740 \\ub370 \\ud0a4\\ud0a4\\n2 : \\ud0a4\\ud0a4 \\ud638\\uae30\\uc2ec \\ucc9c\\uad6d\\uc774\\ub124 \\ub2c8 \\ud0a4\\ud0a4\\n1 : \\uc5b4\\ub5a4 90\\uc138 \\ub178\\uc778\\uc774 \\uc774\\ubc88\\uc5d0 \\uac04 \\ub370 \\uc2e0\\uae30...\\n2 : \\uc640\\uc6b0\\ub0b4... \\uc911\\ub825 \\uc0ac\\ub77c\\uc9c0\\ub294 \\uac70 \\uacac\\ub514\\uc2e4 \\uc218 \\uc788\\ub098\\uc5ec\\n1 : \\ud0a4\\ud0a4 \\uadf8\\uac70 \\uccb4\\ud5d8\\ud574 \\ubcf4\\uace0 \\uc2f6\\ub2e4\\uad81\\n2 : \\ud0a4\\ud0a4 \\uc2e0\\uae30\\ud558\\uae34 \\ud558\\uaca0\\ub2e4\\n2 : \\uadfc\\ub370 \\uadf8 \\ub3c8 \\uc8fc\\uace0\\ub294...\",\n          \"1 : \\ub2e4\\ub4e4 \\ud2f0\\ube44 \\uc798 \\ubd10?\\n2 : \\ub098\\ub294 \\ud2f0\\ube44 \\uac00\\ub054 \\ubd10 \\ud0a4\\ud0a4\\n3 : \\ub098\\ub294 \\uac70\\uc758 \\uc548 \\ubcf4\\ub294 \\uac70 \\uac19\\uc544 \\ud0a4\\ud0a4\\n3 : \\uac70\\uc758 \\ud3f0\\uc73c\\ub85c \\uc720\\ud29c\\ube0c\\ub098 \\ub137\\ud50c\\ub9ad\\uc2a4 \\ubcf4\\uace0\\n1 : \\uc8fc\\ub9d0\\uc5d0 \\ud55c \\uc9c0\\ub9ac\\uc0b0 \\uc778\\uae30\\ub358\\ub370 \\ud0a4\\ud0a4\\n2 : \\uadf8\\ub7ec\\ub2c8\\uae4c \\uadf8\\uac70 \\uc548 \\ubd24\\ub294\\ub370 \\uc5c4\\uccad \\uc774\\uc288\\ub354\\ub77c\\n3 : \\uc751 \\ub9de\\uc544 \\ud0a4\\ud0a4\\n3 : \\uc804\\uc9c0\\ud604 \\ub098\\uc628\\ub2e4\\uace0 \\ub09c\\ub9ac\\ub358\\ub370\\n1 : \\ub9de\\uc544\\n1 : \\ucca8\\uc5d4 cg\\ub54c\\ubb38\\uc5d0 \\ud0a4\\ud0a4 \\ub09c\\ub9ac\\ub358\\ub370\\n2 : \\ub9de\\uc544 \\ud0a4\\ud0a4\\n2 : \\ub098\\ub3c4 CG \\uad00\\ub828 \\uae30\\uc0ac \\ubd24\\uc5b4 \\ud0a4\\ud0a4\\n3 : \\ud0a4\\ud0a4 \\ub09c \\uadf8 \\ubc8c \\uc3d8\\uc778 \\uac70 \\uae30\\uc0ac \\ubcf8 \\uac70 \\uac19\\uc544 \\ud0a4\\ud0a4\\n1 : \\uc0ac\\uc9c4 \\ubcf4\\ub2c8\\uae50 \\uc9c4\\uc9dc \\ud0a4\\ud0a4 \\ub54c\\ubb38\\uc5d0 \\ubc30\\uc6b0\\ub4e4\\uc774 \\uc5f0\\uae30 \\ubabb\\ud574 \\ubcf4\\uc778\\ub2e4\\uace0 \\ud0a4\\ud0a4\\n2 : \\ubc30\\uc6b0\\ub4e4 \\uce90\\uc2a4\\ud305 \\uc9c4\\uc9dc \\uc7a5\\ub09c \\uc544\\ub2c8\\ub358\\ub370 \\u3160\\u3160\\n3 : \\ub9de\\uc544\\n3 : \\ud654\\ub824\\ud558\\uae34 \\ud558\\ub354\\ub77c...\\n3 : \\uc0ac\\uc9c4\\uc73c\\ub85c\\ub9cc \\ubd24\\ub294\\ub370 \\ub2e4 \\uc544\\ub294 \\uc5bc\\uad74\\uc774\\uc57c \\ud0a4\\ud0a4\\n1 : \\ud0a4\\ud0a4 \\ub9de\\uc544 \\ud0a4\\ud0a4\\n1 : \\uadfc\\ub370 \\uc2a4\\ud1a0\\ub9ac\\uac00 \\uc7ac\\ubc0c\\ub300 \\ud0a4\\ud0a4 \\ub2e4\\ub4e4 \\ubcf4\\uc790\\n2 : \\ub098\\ub294 \\ub098\\uc911\\uc5d0 \\ud55c\\ubc88\\uc5d0 \\ub4dc\\ub77c\\ub9c8 \\ubab0\\uc544\\ubcf4\\uae30 \\ud560\\uaebc\\uc57c \\ud0a4\\ud0a4\\n3 : \\ud0a4\\ud0a4 \\ub098\\ub3c4 \\uae30\\ub2e4\\ub9ac\\uae30 \\ud798\\ub4e4\\uc5b4\\uc11c \\uc885\\uc601\\ud558\\uba74 \\ubab0\\uc544\\ubcfc\\ub798\\n1 : \\ud0a4\\ud0a4 \\uadfc\\ub370 \\uc57d\\uac04 \\ubb34\\uc12d\\ub098 \\ubd10 \\ud0a4\\ud0a4 \\ub2e4\\ub4e4 \\uc2ec\\uc7a5 \\uc870\\uc2ec\\n2 : \\uc544 \\uadf8\\ub7fc \\uc880 \\ub9dd\\uc124\\uc5ec \\uc9c0\\ub294\\ub370 \\u3160\\u3160\\n3 : \\uc5b4\\ub77c \\ubb34\\uc11c\\uc6b4 \\uac70\\uba74 \\ub0b4 \\ucde8\\ud5a5\\uc774 \\ub108\\ubb34 \\uc544\\ub2cc\\ub370...\"\n        ],\n        \"semantic_type\": \"\",\n        \"description\": \"\"\n      }\n    }\n  ]\n}"
            }
          },
          "metadata": {},
          "execution_count": 28
        }
      ],
      "source": [
        "df"
      ]
    },
    {
      "cell_type": "code",
      "execution_count": null,
      "metadata": {
        "colab": {
          "base_uri": "https://localhost:8080/",
          "height": 104
        },
        "id": "v7x7dXeawgbi",
        "outputId": "91e504ce-9bdc-4d29-e257-d64dd5444a8f"
      },
      "outputs": [
        {
          "output_type": "execute_result",
          "data": {
            "text/plain": [
              "'1 : 근데 나 산책 다닐 때 보면 남자랑은 여자랑 진짜 다른 게 느껴지는데\\n1 : 춥거나 덥거나 상관없이 축구나 농구를 하고 있는 모습을 보면 그래\\n2 : 맞앙\\n2 : 그리고 확실히 남자들이 몸에 열이 많은 거 같음\\n3 : 나 이사 오고 1년 넘게 몰랐는데 우리 동네에도 주말에 축구 하는 사람들 있더라\\n1 : 키키 오 벌써 1년이나 됐어?\\n1 : 시간 빠르네\\n1 : 마져\\n1 : 무슨 공원에 축구장 조그마한 거 있음 사람들 다 이용해\\n2 : 난 구기 종목 할 줄 아는 거 볼링밖에 없엉 키키\\n3 : 키키 볼링도 진짜 진짜 가끔 하는 거여서 하고 다음날 되면 골반 완전 아픔\\n1 : ㅋㄱ 나는 이상하게 손가락이랑 손목 위 팔등?\\n1 : 거기가 아파\\n2 : 취중 볼링이 얼마나 재밌게 고통도 안 느껴져 키키\\n3 : 알지\\n3 : 수면 마취보다 강하다는 알콜 마취 키키\\n1 : 헐 나랑 술 마시고 볼링 치러 가 줘\\n1 : 넘 재밌겠다\\n1 : 부끄럽지도 않겠네\\n2 : 그랭 키키\\n2 : 혹시 락 볼링장 가 봤어?\\n3 : 아 거기 술마시고 가서 치면 대존잼\\n1 : 난 항상 가는 곳마다 락볼링장이었어\\n2 : 오호 근데 락볼링장이 더 비싸서 화나\\n3 : 마자\\n3 : 근데 오랜만에 볼링 치고 싶긴 하다\\n1 : 너희 실력은 어때\\n1 : 나는 꽝꽝 내리찍는 거 선수\\n2 : 난 또랑 신인데 가끔 운 좋으면 좀 치는? 키키\\n3 : 나도 운 좋으면 그나마 괜찮은 정도 키키\\n3 : 우리 다음에 같이 치러 가자 콜!'"
            ],
            "application/vnd.google.colaboratory.intrinsic+json": {
              "type": "string"
            }
          },
          "metadata": {},
          "execution_count": 29
        }
      ],
      "source": [
        "df.loc[0, 'text']"
      ]
    },
    {
      "cell_type": "code",
      "source": [
        "annotations"
      ],
      "metadata": {
        "colab": {
          "base_uri": "https://localhost:8080/",
          "height": 458
        },
        "id": "m_llTmrQENCP",
        "outputId": "8ef17f3f-62cb-442c-e962-4e65e7169714"
      },
      "execution_count": null,
      "outputs": [
        {
          "output_type": "execute_result",
          "data": {
            "text/plain": [
              "0        {'subject': '반려동물', 'speaker_type': '1:1', 'si...\n",
              "1        {'subject': '건강', 'speaker_type': '1:1', 'size...\n",
              "2        {'subject': '반려동물', 'speaker_type': '다자간 대화', ...\n",
              "3        {'subject': '식음료', 'speaker_type': '다자간 대화', '...\n",
              "4        {'subject': '사회이슈', 'speaker_type': '1:1', 'si...\n",
              "                               ...                        \n",
              "17994    {'subject': '군대', 'speaker_type': '1:1', 'size...\n",
              "17995    {'subject': '교통', 'speaker_type': '다자간 대화', 's...\n",
              "17996    {'subject': '타 국가 이슈', 'speaker_type': '다자간 대화...\n",
              "17997    {'subject': '군대', 'speaker_type': '다자간 대화', 's...\n",
              "17998    {'subject': '군대', 'speaker_type': '1:1', 'size...\n",
              "Name: annotations, Length: 17999, dtype: object"
            ],
            "text/html": [
              "<div>\n",
              "<style scoped>\n",
              "    .dataframe tbody tr th:only-of-type {\n",
              "        vertical-align: middle;\n",
              "    }\n",
              "\n",
              "    .dataframe tbody tr th {\n",
              "        vertical-align: top;\n",
              "    }\n",
              "\n",
              "    .dataframe thead th {\n",
              "        text-align: right;\n",
              "    }\n",
              "</style>\n",
              "<table border=\"1\" class=\"dataframe\">\n",
              "  <thead>\n",
              "    <tr style=\"text-align: right;\">\n",
              "      <th></th>\n",
              "      <th>annotations</th>\n",
              "    </tr>\n",
              "  </thead>\n",
              "  <tbody>\n",
              "    <tr>\n",
              "      <th>0</th>\n",
              "      <td>{'subject': '반려동물', 'speaker_type': '1:1', 'si...</td>\n",
              "    </tr>\n",
              "    <tr>\n",
              "      <th>1</th>\n",
              "      <td>{'subject': '건강', 'speaker_type': '1:1', 'size...</td>\n",
              "    </tr>\n",
              "    <tr>\n",
              "      <th>2</th>\n",
              "      <td>{'subject': '반려동물', 'speaker_type': '다자간 대화', ...</td>\n",
              "    </tr>\n",
              "    <tr>\n",
              "      <th>3</th>\n",
              "      <td>{'subject': '식음료', 'speaker_type': '다자간 대화', '...</td>\n",
              "    </tr>\n",
              "    <tr>\n",
              "      <th>4</th>\n",
              "      <td>{'subject': '사회이슈', 'speaker_type': '1:1', 'si...</td>\n",
              "    </tr>\n",
              "    <tr>\n",
              "      <th>...</th>\n",
              "      <td>...</td>\n",
              "    </tr>\n",
              "    <tr>\n",
              "      <th>17994</th>\n",
              "      <td>{'subject': '군대', 'speaker_type': '1:1', 'size...</td>\n",
              "    </tr>\n",
              "    <tr>\n",
              "      <th>17995</th>\n",
              "      <td>{'subject': '교통', 'speaker_type': '다자간 대화', 's...</td>\n",
              "    </tr>\n",
              "    <tr>\n",
              "      <th>17996</th>\n",
              "      <td>{'subject': '타 국가 이슈', 'speaker_type': '다자간 대화...</td>\n",
              "    </tr>\n",
              "    <tr>\n",
              "      <th>17997</th>\n",
              "      <td>{'subject': '군대', 'speaker_type': '다자간 대화', 's...</td>\n",
              "    </tr>\n",
              "    <tr>\n",
              "      <th>17998</th>\n",
              "      <td>{'subject': '군대', 'speaker_type': '1:1', 'size...</td>\n",
              "    </tr>\n",
              "  </tbody>\n",
              "</table>\n",
              "<p>17999 rows × 1 columns</p>\n",
              "</div><br><label><b>dtype:</b> object</label>"
            ]
          },
          "metadata": {},
          "execution_count": 12
        }
      ]
    },
    {
      "cell_type": "markdown",
      "source": [
        "## 10/28. 기준 재시작 ^^"
      ],
      "metadata": {
        "id": "pqlIFcApuvFy"
      }
    },
    {
      "cell_type": "code",
      "source": [
        "import tensorflow as tf\n",
        "import torch\n",
        "\n",
        "from transformers import BertTokenizer\n",
        "from transformers import BertForSequenceClassification, AdamW, BertConfig\n",
        "from transformers import get_linear_schedule_with_warmup\n",
        "from torch.utils.data import TensorDataset, DataLoader, RandomSampler, SequentialSampler\n",
        "from keras.preprocessing.sequence import pad_sequences\n",
        "from sklearn.model_selection import train_test_split\n",
        "\n",
        "import pandas as pd\n",
        "import numpy as np\n",
        "import random\n",
        "import time\n",
        "import datetime"
      ],
      "metadata": {
        "id": "XZ7bFZdou1bB"
      },
      "execution_count": null,
      "outputs": []
    },
    {
      "cell_type": "code",
      "source": [
        "n_devices = torch.cuda.device_count()\n",
        "print(n_devices)\n",
        "\n",
        "for i in range(n_devices):\n",
        "    print(torch.cuda.get_device_name(i))"
      ],
      "metadata": {
        "id": "wfNIm3HhR8ZW"
      },
      "execution_count": null,
      "outputs": []
    },
    {
      "cell_type": "markdown",
      "source": [
        "## 2. roberta 모델 불러오기"
      ],
      "metadata": {
        "id": "-GrjTRLqFlKQ"
      }
    },
    {
      "cell_type": "code",
      "source": [
        "\n",
        "!pip install transformers"
      ],
      "metadata": {
        "colab": {
          "base_uri": "https://localhost:8080/"
        },
        "id": "F4gXSmGcKR8g",
        "outputId": "b9b788f6-c5fb-4351-b5b1-082657d6cde8"
      },
      "execution_count": null,
      "outputs": [
        {
          "output_type": "stream",
          "name": "stdout",
          "text": [
            "Requirement already satisfied: transformers in /usr/local/lib/python3.10/dist-packages (4.44.2)\n",
            "Requirement already satisfied: filelock in /usr/local/lib/python3.10/dist-packages (from transformers) (3.16.1)\n",
            "Requirement already satisfied: huggingface-hub<1.0,>=0.23.2 in /usr/local/lib/python3.10/dist-packages (from transformers) (0.24.7)\n",
            "Requirement already satisfied: numpy>=1.17 in /usr/local/lib/python3.10/dist-packages (from transformers) (1.26.4)\n",
            "Requirement already satisfied: packaging>=20.0 in /usr/local/lib/python3.10/dist-packages (from transformers) (24.1)\n",
            "Requirement already satisfied: pyyaml>=5.1 in /usr/local/lib/python3.10/dist-packages (from transformers) (6.0.2)\n",
            "Requirement already satisfied: regex!=2019.12.17 in /usr/local/lib/python3.10/dist-packages (from transformers) (2024.9.11)\n",
            "Requirement already satisfied: requests in /usr/local/lib/python3.10/dist-packages (from transformers) (2.32.3)\n",
            "Requirement already satisfied: safetensors>=0.4.1 in /usr/local/lib/python3.10/dist-packages (from transformers) (0.4.5)\n",
            "Requirement already satisfied: tokenizers<0.20,>=0.19 in /usr/local/lib/python3.10/dist-packages (from transformers) (0.19.1)\n",
            "Requirement already satisfied: tqdm>=4.27 in /usr/local/lib/python3.10/dist-packages (from transformers) (4.66.5)\n",
            "Requirement already satisfied: fsspec>=2023.5.0 in /usr/local/lib/python3.10/dist-packages (from huggingface-hub<1.0,>=0.23.2->transformers) (2024.6.1)\n",
            "Requirement already satisfied: typing-extensions>=3.7.4.3 in /usr/local/lib/python3.10/dist-packages (from huggingface-hub<1.0,>=0.23.2->transformers) (4.12.2)\n",
            "Requirement already satisfied: charset-normalizer<4,>=2 in /usr/local/lib/python3.10/dist-packages (from requests->transformers) (3.3.2)\n",
            "Requirement already satisfied: idna<4,>=2.5 in /usr/local/lib/python3.10/dist-packages (from requests->transformers) (3.10)\n",
            "Requirement already satisfied: urllib3<3,>=1.21.1 in /usr/local/lib/python3.10/dist-packages (from requests->transformers) (2.2.3)\n",
            "Requirement already satisfied: certifi>=2017.4.17 in /usr/local/lib/python3.10/dist-packages (from requests->transformers) (2024.8.30)\n"
          ]
        }
      ]
    },
    {
      "cell_type": "code",
      "source": [
        "\n",
        "import os\n",
        "import random\n",
        "from tqdm import tqdm\n",
        "\n",
        "import torch\n",
        "import torch.nn.functional as F\n",
        "from torch.utils.data import DataLoader, Dataset\n",
        "from sklearn.metrics import accuracy_score\n",
        "from sklearn.model_selection import train_test_split\n",
        "from transformers import TrainingArguments, Trainer\n",
        "from transformers import AutoModelForSequenceClassification, AutoConfig, AutoTokenizer\n"
      ],
      "metadata": {
        "id": "fbi8H7ZnKPgo"
      },
      "execution_count": null,
      "outputs": []
    },
    {
      "cell_type": "code",
      "source": [
        "from transformers import AutoModel, AutoTokenizer\n",
        "\n",
        "model = AutoModel.from_pretrained(\"klue/roberta-base\")\n",
        "tokenizer = AutoTokenizer.from_pretrained(\"klue/roberta-base\")\n"
      ],
      "metadata": {
        "colab": {
          "base_uri": "https://localhost:8080/"
        },
        "id": "xskMmQ7gHCYM",
        "outputId": "42be50a0-f360-4ddd-e6c3-01f32386552b"
      },
      "execution_count": null,
      "outputs": [
        {
          "output_type": "stream",
          "name": "stderr",
          "text": [
            "Some weights of RobertaModel were not initialized from the model checkpoint at klue/roberta-base and are newly initialized: ['roberta.pooler.dense.bias', 'roberta.pooler.dense.weight']\n",
            "You should probably TRAIN this model on a down-stream task to be able to use it for predictions and inference.\n",
            "/usr/local/lib/python3.10/dist-packages/transformers/tokenization_utils_base.py:1601: FutureWarning: `clean_up_tokenization_spaces` was not set. It will be set to `True` by default. This behavior will be depracted in transformers v4.45, and will be then set to `False` by default. For more details check this issue: https://github.com/huggingface/transformers/issues/31884\n",
            "  warnings.warn(\n"
          ]
        }
      ]
    },
    {
      "cell_type": "code",
      "source": [
        "\n",
        "import urllib.request\n",
        "from sklearn import preprocessing\n",
        "import tensorflow as tf\n",
        "from transformers import BertTokenizer, TFBertModel\n",
        "from tensorflow.keras.callbacks import EarlyStopping, ModelCheckpoint"
      ],
      "metadata": {
        "id": "_ialKOs4J6Ph"
      },
      "execution_count": null,
      "outputs": []
    },
    {
      "cell_type": "code",
      "source": [
        "config = AutoConfig.from_pretrained('klue/roberta-large')\n",
        "config.num_labels = 3\n",
        "\n",
        "model = AutoModelForSequenceClassification.from_pretrained('klue/roberta-large', config=config)"
      ],
      "metadata": {
        "colab": {
          "base_uri": "https://localhost:8080/",
          "height": 136,
          "referenced_widgets": [
            "f88a09dab59a4072ad7e49a338225870",
            "b2463f86dc4d4642aca097633e087d94",
            "549ce276ed4c48dcae4d60991e64ad23",
            "15a9bb76baf54f9e863e6733fd3c86ab",
            "39758accbc1e4488ae65c8bd9bd3ad85",
            "29e52aad54fd45f1931e8f64ed8eabb1",
            "0cae509d216f4284913c2d814a430113",
            "142256fdf346439393fd6c44a42debbb",
            "73354d464d0b4993adcab983b2009741",
            "fbe0d63db7214cac83776aa623e25eb9",
            "bf7887fd5e1248259272e2cc39007507",
            "f4c647355d124636a990bbf47160e299",
            "4998e65c798640868cf5222eb9d1badc",
            "9d5365523d3a45ab8322498962bf863e",
            "7023f038b9cb49179afb3824cd42704d",
            "b80d766fb99c41089d992e2f33ebefb2",
            "8f5478e00d0743f9b770a3557cddfc34",
            "c873616727f042858c23a4335c6da8cb",
            "bfc8b0f4a94241829e9bf8caaf9c73e2",
            "9b831902f0ba49b794dbd4bccfc96ac7",
            "06d7f25cad3f4314a82f10acf8f72667",
            "3313652bfa294f9fbc6d50c7e3e73b30"
          ]
        },
        "id": "hAIPzqkxHC3X",
        "outputId": "41c03202-10ae-4b30-be3f-a4e1ba87a149"
      },
      "execution_count": null,
      "outputs": [
        {
          "output_type": "display_data",
          "data": {
            "text/plain": [
              "config.json:   0%|          | 0.00/547 [00:00<?, ?B/s]"
            ],
            "application/vnd.jupyter.widget-view+json": {
              "version_major": 2,
              "version_minor": 0,
              "model_id": "f88a09dab59a4072ad7e49a338225870"
            }
          },
          "metadata": {}
        },
        {
          "output_type": "display_data",
          "data": {
            "text/plain": [
              "model.safetensors:   0%|          | 0.00/1.35G [00:00<?, ?B/s]"
            ],
            "application/vnd.jupyter.widget-view+json": {
              "version_major": 2,
              "version_minor": 0,
              "model_id": "f4c647355d124636a990bbf47160e299"
            }
          },
          "metadata": {}
        },
        {
          "output_type": "stream",
          "name": "stderr",
          "text": [
            "Some weights of RobertaForSequenceClassification were not initialized from the model checkpoint at klue/roberta-large and are newly initialized: ['classifier.dense.bias', 'classifier.dense.weight', 'classifier.out_proj.bias', 'classifier.out_proj.weight']\n",
            "You should probably TRAIN this model on a down-stream task to be able to use it for predictions and inference.\n"
          ]
        }
      ]
    },
    {
      "cell_type": "code",
      "source": [
        "import pandas as pd\n",
        "from sklearn.model_selection import train_test_split\n",
        "from transformers import AutoTokenizer, TFAutoModelForSequenceClassification\n",
        "import tensorflow as tf\n",
        "from sklearn.preprocessing import LabelEncoder\n",
        "from tensorflow.keras.optimizers import Adam\n",
        "\n",
        "\n",
        "# 예측 변수와 설명 변수 분리\n",
        "X = df['text']  # 대화 내용\n",
        "y = df['subject']  # 주제\n",
        "\n",
        "# Label Encoding for the target variable\n",
        "le = LabelEncoder()\n",
        "y_encoded = le.fit_transform(y)\n",
        "\n",
        "# 학습 데이터와 테스트 데이터 분리 (80:20 비율)\n",
        "X_train, X_test, y_train, y_test = train_test_split(X, y_encoded, test_size=0.2, random_state=42)\n",
        "\n",
        "# 데이터 토큰화\n",
        "def tokenize_data(texts, tokenizer, max_length=128):\n",
        "    return tokenizer(\n",
        "        list(texts),\n",
        "        padding=True,\n",
        "        truncation=True,\n",
        "        max_length=max_length,\n",
        "        return_tensors=\"tf\"\n",
        "    )\n",
        "\n",
        "X_train_tokenized = tokenize_data(X_train, tokenizer)\n",
        "X_test_tokenized = tokenize_data(X_test, tokenizer)\n"
      ],
      "metadata": {
        "id": "WPBIpDz4J-od"
      },
      "execution_count": null,
      "outputs": []
    },
    {
      "cell_type": "code",
      "source": [
        "X_train_tokenized"
      ],
      "metadata": {
        "colab": {
          "base_uri": "https://localhost:8080/"
        },
        "id": "6CmoCiODNZfv",
        "outputId": "725cc297-be62-4d11-90a7-ef6c1d5e85a4"
      },
      "execution_count": null,
      "outputs": [
        {
          "output_type": "execute_result",
          "data": {
            "text/plain": [
              "{'input_ids': <tf.Tensor: shape=(14399, 128), dtype=int32, numpy=\n",
              "array([[   0,   21,   30, ..., 2116, 4258,    2],\n",
              "       [   0,   21,   30, ..., 1507,  885,    2],\n",
              "       [   0,   21,   30, ..., 2098, 2052,    2],\n",
              "       ...,\n",
              "       [   0,   21,   30, ..., 2259, 1097,    2],\n",
              "       [   0,   21,   30, ..., 3780, 1537,    2],\n",
              "       [   0,   21,   30, ...,   22,   30,    2]], dtype=int32)>, 'token_type_ids': <tf.Tensor: shape=(14399, 128), dtype=int32, numpy=\n",
              "array([[0, 0, 0, ..., 0, 0, 0],\n",
              "       [0, 0, 0, ..., 0, 0, 0],\n",
              "       [0, 0, 0, ..., 0, 0, 0],\n",
              "       ...,\n",
              "       [0, 0, 0, ..., 0, 0, 0],\n",
              "       [0, 0, 0, ..., 0, 0, 0],\n",
              "       [0, 0, 0, ..., 0, 0, 0]], dtype=int32)>, 'attention_mask': <tf.Tensor: shape=(14399, 128), dtype=int32, numpy=\n",
              "array([[1, 1, 1, ..., 1, 1, 1],\n",
              "       [1, 1, 1, ..., 1, 1, 1],\n",
              "       [1, 1, 1, ..., 1, 1, 1],\n",
              "       ...,\n",
              "       [1, 1, 1, ..., 1, 1, 1],\n",
              "       [1, 1, 1, ..., 1, 1, 1],\n",
              "       [1, 1, 1, ..., 1, 1, 1]], dtype=int32)>}"
            ]
          },
          "metadata": {},
          "execution_count": 28
        }
      ]
    },
    {
      "cell_type": "code",
      "source": [],
      "metadata": {
        "id": "e2zJuqOMO1HZ"
      },
      "execution_count": null,
      "outputs": []
    }
  ],
  "metadata": {
    "colab": {
      "provenance": [],
      "gpuType": "T4"
    },
    "kernelspec": {
      "display_name": "Python 3",
      "name": "python3"
    },
    "language_info": {
      "name": "python"
    },
    "accelerator": "GPU",
    "widgets": {
      "application/vnd.jupyter.widget-state+json": {
        "f88a09dab59a4072ad7e49a338225870": {
          "model_module": "@jupyter-widgets/controls",
          "model_name": "HBoxModel",
          "model_module_version": "1.5.0",
          "state": {
            "_dom_classes": [],
            "_model_module": "@jupyter-widgets/controls",
            "_model_module_version": "1.5.0",
            "_model_name": "HBoxModel",
            "_view_count": null,
            "_view_module": "@jupyter-widgets/controls",
            "_view_module_version": "1.5.0",
            "_view_name": "HBoxView",
            "box_style": "",
            "children": [
              "IPY_MODEL_b2463f86dc4d4642aca097633e087d94",
              "IPY_MODEL_549ce276ed4c48dcae4d60991e64ad23",
              "IPY_MODEL_15a9bb76baf54f9e863e6733fd3c86ab"
            ],
            "layout": "IPY_MODEL_39758accbc1e4488ae65c8bd9bd3ad85"
          }
        },
        "b2463f86dc4d4642aca097633e087d94": {
          "model_module": "@jupyter-widgets/controls",
          "model_name": "HTMLModel",
          "model_module_version": "1.5.0",
          "state": {
            "_dom_classes": [],
            "_model_module": "@jupyter-widgets/controls",
            "_model_module_version": "1.5.0",
            "_model_name": "HTMLModel",
            "_view_count": null,
            "_view_module": "@jupyter-widgets/controls",
            "_view_module_version": "1.5.0",
            "_view_name": "HTMLView",
            "description": "",
            "description_tooltip": null,
            "layout": "IPY_MODEL_29e52aad54fd45f1931e8f64ed8eabb1",
            "placeholder": "​",
            "style": "IPY_MODEL_0cae509d216f4284913c2d814a430113",
            "value": "config.json: 100%"
          }
        },
        "549ce276ed4c48dcae4d60991e64ad23": {
          "model_module": "@jupyter-widgets/controls",
          "model_name": "FloatProgressModel",
          "model_module_version": "1.5.0",
          "state": {
            "_dom_classes": [],
            "_model_module": "@jupyter-widgets/controls",
            "_model_module_version": "1.5.0",
            "_model_name": "FloatProgressModel",
            "_view_count": null,
            "_view_module": "@jupyter-widgets/controls",
            "_view_module_version": "1.5.0",
            "_view_name": "ProgressView",
            "bar_style": "success",
            "description": "",
            "description_tooltip": null,
            "layout": "IPY_MODEL_142256fdf346439393fd6c44a42debbb",
            "max": 547,
            "min": 0,
            "orientation": "horizontal",
            "style": "IPY_MODEL_73354d464d0b4993adcab983b2009741",
            "value": 547
          }
        },
        "15a9bb76baf54f9e863e6733fd3c86ab": {
          "model_module": "@jupyter-widgets/controls",
          "model_name": "HTMLModel",
          "model_module_version": "1.5.0",
          "state": {
            "_dom_classes": [],
            "_model_module": "@jupyter-widgets/controls",
            "_model_module_version": "1.5.0",
            "_model_name": "HTMLModel",
            "_view_count": null,
            "_view_module": "@jupyter-widgets/controls",
            "_view_module_version": "1.5.0",
            "_view_name": "HTMLView",
            "description": "",
            "description_tooltip": null,
            "layout": "IPY_MODEL_fbe0d63db7214cac83776aa623e25eb9",
            "placeholder": "​",
            "style": "IPY_MODEL_bf7887fd5e1248259272e2cc39007507",
            "value": " 547/547 [00:00&lt;00:00, 33.9kB/s]"
          }
        },
        "39758accbc1e4488ae65c8bd9bd3ad85": {
          "model_module": "@jupyter-widgets/base",
          "model_name": "LayoutModel",
          "model_module_version": "1.2.0",
          "state": {
            "_model_module": "@jupyter-widgets/base",
            "_model_module_version": "1.2.0",
            "_model_name": "LayoutModel",
            "_view_count": null,
            "_view_module": "@jupyter-widgets/base",
            "_view_module_version": "1.2.0",
            "_view_name": "LayoutView",
            "align_content": null,
            "align_items": null,
            "align_self": null,
            "border": null,
            "bottom": null,
            "display": null,
            "flex": null,
            "flex_flow": null,
            "grid_area": null,
            "grid_auto_columns": null,
            "grid_auto_flow": null,
            "grid_auto_rows": null,
            "grid_column": null,
            "grid_gap": null,
            "grid_row": null,
            "grid_template_areas": null,
            "grid_template_columns": null,
            "grid_template_rows": null,
            "height": null,
            "justify_content": null,
            "justify_items": null,
            "left": null,
            "margin": null,
            "max_height": null,
            "max_width": null,
            "min_height": null,
            "min_width": null,
            "object_fit": null,
            "object_position": null,
            "order": null,
            "overflow": null,
            "overflow_x": null,
            "overflow_y": null,
            "padding": null,
            "right": null,
            "top": null,
            "visibility": null,
            "width": null
          }
        },
        "29e52aad54fd45f1931e8f64ed8eabb1": {
          "model_module": "@jupyter-widgets/base",
          "model_name": "LayoutModel",
          "model_module_version": "1.2.0",
          "state": {
            "_model_module": "@jupyter-widgets/base",
            "_model_module_version": "1.2.0",
            "_model_name": "LayoutModel",
            "_view_count": null,
            "_view_module": "@jupyter-widgets/base",
            "_view_module_version": "1.2.0",
            "_view_name": "LayoutView",
            "align_content": null,
            "align_items": null,
            "align_self": null,
            "border": null,
            "bottom": null,
            "display": null,
            "flex": null,
            "flex_flow": null,
            "grid_area": null,
            "grid_auto_columns": null,
            "grid_auto_flow": null,
            "grid_auto_rows": null,
            "grid_column": null,
            "grid_gap": null,
            "grid_row": null,
            "grid_template_areas": null,
            "grid_template_columns": null,
            "grid_template_rows": null,
            "height": null,
            "justify_content": null,
            "justify_items": null,
            "left": null,
            "margin": null,
            "max_height": null,
            "max_width": null,
            "min_height": null,
            "min_width": null,
            "object_fit": null,
            "object_position": null,
            "order": null,
            "overflow": null,
            "overflow_x": null,
            "overflow_y": null,
            "padding": null,
            "right": null,
            "top": null,
            "visibility": null,
            "width": null
          }
        },
        "0cae509d216f4284913c2d814a430113": {
          "model_module": "@jupyter-widgets/controls",
          "model_name": "DescriptionStyleModel",
          "model_module_version": "1.5.0",
          "state": {
            "_model_module": "@jupyter-widgets/controls",
            "_model_module_version": "1.5.0",
            "_model_name": "DescriptionStyleModel",
            "_view_count": null,
            "_view_module": "@jupyter-widgets/base",
            "_view_module_version": "1.2.0",
            "_view_name": "StyleView",
            "description_width": ""
          }
        },
        "142256fdf346439393fd6c44a42debbb": {
          "model_module": "@jupyter-widgets/base",
          "model_name": "LayoutModel",
          "model_module_version": "1.2.0",
          "state": {
            "_model_module": "@jupyter-widgets/base",
            "_model_module_version": "1.2.0",
            "_model_name": "LayoutModel",
            "_view_count": null,
            "_view_module": "@jupyter-widgets/base",
            "_view_module_version": "1.2.0",
            "_view_name": "LayoutView",
            "align_content": null,
            "align_items": null,
            "align_self": null,
            "border": null,
            "bottom": null,
            "display": null,
            "flex": null,
            "flex_flow": null,
            "grid_area": null,
            "grid_auto_columns": null,
            "grid_auto_flow": null,
            "grid_auto_rows": null,
            "grid_column": null,
            "grid_gap": null,
            "grid_row": null,
            "grid_template_areas": null,
            "grid_template_columns": null,
            "grid_template_rows": null,
            "height": null,
            "justify_content": null,
            "justify_items": null,
            "left": null,
            "margin": null,
            "max_height": null,
            "max_width": null,
            "min_height": null,
            "min_width": null,
            "object_fit": null,
            "object_position": null,
            "order": null,
            "overflow": null,
            "overflow_x": null,
            "overflow_y": null,
            "padding": null,
            "right": null,
            "top": null,
            "visibility": null,
            "width": null
          }
        },
        "73354d464d0b4993adcab983b2009741": {
          "model_module": "@jupyter-widgets/controls",
          "model_name": "ProgressStyleModel",
          "model_module_version": "1.5.0",
          "state": {
            "_model_module": "@jupyter-widgets/controls",
            "_model_module_version": "1.5.0",
            "_model_name": "ProgressStyleModel",
            "_view_count": null,
            "_view_module": "@jupyter-widgets/base",
            "_view_module_version": "1.2.0",
            "_view_name": "StyleView",
            "bar_color": null,
            "description_width": ""
          }
        },
        "fbe0d63db7214cac83776aa623e25eb9": {
          "model_module": "@jupyter-widgets/base",
          "model_name": "LayoutModel",
          "model_module_version": "1.2.0",
          "state": {
            "_model_module": "@jupyter-widgets/base",
            "_model_module_version": "1.2.0",
            "_model_name": "LayoutModel",
            "_view_count": null,
            "_view_module": "@jupyter-widgets/base",
            "_view_module_version": "1.2.0",
            "_view_name": "LayoutView",
            "align_content": null,
            "align_items": null,
            "align_self": null,
            "border": null,
            "bottom": null,
            "display": null,
            "flex": null,
            "flex_flow": null,
            "grid_area": null,
            "grid_auto_columns": null,
            "grid_auto_flow": null,
            "grid_auto_rows": null,
            "grid_column": null,
            "grid_gap": null,
            "grid_row": null,
            "grid_template_areas": null,
            "grid_template_columns": null,
            "grid_template_rows": null,
            "height": null,
            "justify_content": null,
            "justify_items": null,
            "left": null,
            "margin": null,
            "max_height": null,
            "max_width": null,
            "min_height": null,
            "min_width": null,
            "object_fit": null,
            "object_position": null,
            "order": null,
            "overflow": null,
            "overflow_x": null,
            "overflow_y": null,
            "padding": null,
            "right": null,
            "top": null,
            "visibility": null,
            "width": null
          }
        },
        "bf7887fd5e1248259272e2cc39007507": {
          "model_module": "@jupyter-widgets/controls",
          "model_name": "DescriptionStyleModel",
          "model_module_version": "1.5.0",
          "state": {
            "_model_module": "@jupyter-widgets/controls",
            "_model_module_version": "1.5.0",
            "_model_name": "DescriptionStyleModel",
            "_view_count": null,
            "_view_module": "@jupyter-widgets/base",
            "_view_module_version": "1.2.0",
            "_view_name": "StyleView",
            "description_width": ""
          }
        },
        "f4c647355d124636a990bbf47160e299": {
          "model_module": "@jupyter-widgets/controls",
          "model_name": "HBoxModel",
          "model_module_version": "1.5.0",
          "state": {
            "_dom_classes": [],
            "_model_module": "@jupyter-widgets/controls",
            "_model_module_version": "1.5.0",
            "_model_name": "HBoxModel",
            "_view_count": null,
            "_view_module": "@jupyter-widgets/controls",
            "_view_module_version": "1.5.0",
            "_view_name": "HBoxView",
            "box_style": "",
            "children": [
              "IPY_MODEL_4998e65c798640868cf5222eb9d1badc",
              "IPY_MODEL_9d5365523d3a45ab8322498962bf863e",
              "IPY_MODEL_7023f038b9cb49179afb3824cd42704d"
            ],
            "layout": "IPY_MODEL_b80d766fb99c41089d992e2f33ebefb2"
          }
        },
        "4998e65c798640868cf5222eb9d1badc": {
          "model_module": "@jupyter-widgets/controls",
          "model_name": "HTMLModel",
          "model_module_version": "1.5.0",
          "state": {
            "_dom_classes": [],
            "_model_module": "@jupyter-widgets/controls",
            "_model_module_version": "1.5.0",
            "_model_name": "HTMLModel",
            "_view_count": null,
            "_view_module": "@jupyter-widgets/controls",
            "_view_module_version": "1.5.0",
            "_view_name": "HTMLView",
            "description": "",
            "description_tooltip": null,
            "layout": "IPY_MODEL_8f5478e00d0743f9b770a3557cddfc34",
            "placeholder": "​",
            "style": "IPY_MODEL_c873616727f042858c23a4335c6da8cb",
            "value": "model.safetensors: 100%"
          }
        },
        "9d5365523d3a45ab8322498962bf863e": {
          "model_module": "@jupyter-widgets/controls",
          "model_name": "FloatProgressModel",
          "model_module_version": "1.5.0",
          "state": {
            "_dom_classes": [],
            "_model_module": "@jupyter-widgets/controls",
            "_model_module_version": "1.5.0",
            "_model_name": "FloatProgressModel",
            "_view_count": null,
            "_view_module": "@jupyter-widgets/controls",
            "_view_module_version": "1.5.0",
            "_view_name": "ProgressView",
            "bar_style": "success",
            "description": "",
            "description_tooltip": null,
            "layout": "IPY_MODEL_bfc8b0f4a94241829e9bf8caaf9c73e2",
            "max": 1346814194,
            "min": 0,
            "orientation": "horizontal",
            "style": "IPY_MODEL_9b831902f0ba49b794dbd4bccfc96ac7",
            "value": 1346814194
          }
        },
        "7023f038b9cb49179afb3824cd42704d": {
          "model_module": "@jupyter-widgets/controls",
          "model_name": "HTMLModel",
          "model_module_version": "1.5.0",
          "state": {
            "_dom_classes": [],
            "_model_module": "@jupyter-widgets/controls",
            "_model_module_version": "1.5.0",
            "_model_name": "HTMLModel",
            "_view_count": null,
            "_view_module": "@jupyter-widgets/controls",
            "_view_module_version": "1.5.0",
            "_view_name": "HTMLView",
            "description": "",
            "description_tooltip": null,
            "layout": "IPY_MODEL_06d7f25cad3f4314a82f10acf8f72667",
            "placeholder": "​",
            "style": "IPY_MODEL_3313652bfa294f9fbc6d50c7e3e73b30",
            "value": " 1.35G/1.35G [00:11&lt;00:00, 54.2MB/s]"
          }
        },
        "b80d766fb99c41089d992e2f33ebefb2": {
          "model_module": "@jupyter-widgets/base",
          "model_name": "LayoutModel",
          "model_module_version": "1.2.0",
          "state": {
            "_model_module": "@jupyter-widgets/base",
            "_model_module_version": "1.2.0",
            "_model_name": "LayoutModel",
            "_view_count": null,
            "_view_module": "@jupyter-widgets/base",
            "_view_module_version": "1.2.0",
            "_view_name": "LayoutView",
            "align_content": null,
            "align_items": null,
            "align_self": null,
            "border": null,
            "bottom": null,
            "display": null,
            "flex": null,
            "flex_flow": null,
            "grid_area": null,
            "grid_auto_columns": null,
            "grid_auto_flow": null,
            "grid_auto_rows": null,
            "grid_column": null,
            "grid_gap": null,
            "grid_row": null,
            "grid_template_areas": null,
            "grid_template_columns": null,
            "grid_template_rows": null,
            "height": null,
            "justify_content": null,
            "justify_items": null,
            "left": null,
            "margin": null,
            "max_height": null,
            "max_width": null,
            "min_height": null,
            "min_width": null,
            "object_fit": null,
            "object_position": null,
            "order": null,
            "overflow": null,
            "overflow_x": null,
            "overflow_y": null,
            "padding": null,
            "right": null,
            "top": null,
            "visibility": null,
            "width": null
          }
        },
        "8f5478e00d0743f9b770a3557cddfc34": {
          "model_module": "@jupyter-widgets/base",
          "model_name": "LayoutModel",
          "model_module_version": "1.2.0",
          "state": {
            "_model_module": "@jupyter-widgets/base",
            "_model_module_version": "1.2.0",
            "_model_name": "LayoutModel",
            "_view_count": null,
            "_view_module": "@jupyter-widgets/base",
            "_view_module_version": "1.2.0",
            "_view_name": "LayoutView",
            "align_content": null,
            "align_items": null,
            "align_self": null,
            "border": null,
            "bottom": null,
            "display": null,
            "flex": null,
            "flex_flow": null,
            "grid_area": null,
            "grid_auto_columns": null,
            "grid_auto_flow": null,
            "grid_auto_rows": null,
            "grid_column": null,
            "grid_gap": null,
            "grid_row": null,
            "grid_template_areas": null,
            "grid_template_columns": null,
            "grid_template_rows": null,
            "height": null,
            "justify_content": null,
            "justify_items": null,
            "left": null,
            "margin": null,
            "max_height": null,
            "max_width": null,
            "min_height": null,
            "min_width": null,
            "object_fit": null,
            "object_position": null,
            "order": null,
            "overflow": null,
            "overflow_x": null,
            "overflow_y": null,
            "padding": null,
            "right": null,
            "top": null,
            "visibility": null,
            "width": null
          }
        },
        "c873616727f042858c23a4335c6da8cb": {
          "model_module": "@jupyter-widgets/controls",
          "model_name": "DescriptionStyleModel",
          "model_module_version": "1.5.0",
          "state": {
            "_model_module": "@jupyter-widgets/controls",
            "_model_module_version": "1.5.0",
            "_model_name": "DescriptionStyleModel",
            "_view_count": null,
            "_view_module": "@jupyter-widgets/base",
            "_view_module_version": "1.2.0",
            "_view_name": "StyleView",
            "description_width": ""
          }
        },
        "bfc8b0f4a94241829e9bf8caaf9c73e2": {
          "model_module": "@jupyter-widgets/base",
          "model_name": "LayoutModel",
          "model_module_version": "1.2.0",
          "state": {
            "_model_module": "@jupyter-widgets/base",
            "_model_module_version": "1.2.0",
            "_model_name": "LayoutModel",
            "_view_count": null,
            "_view_module": "@jupyter-widgets/base",
            "_view_module_version": "1.2.0",
            "_view_name": "LayoutView",
            "align_content": null,
            "align_items": null,
            "align_self": null,
            "border": null,
            "bottom": null,
            "display": null,
            "flex": null,
            "flex_flow": null,
            "grid_area": null,
            "grid_auto_columns": null,
            "grid_auto_flow": null,
            "grid_auto_rows": null,
            "grid_column": null,
            "grid_gap": null,
            "grid_row": null,
            "grid_template_areas": null,
            "grid_template_columns": null,
            "grid_template_rows": null,
            "height": null,
            "justify_content": null,
            "justify_items": null,
            "left": null,
            "margin": null,
            "max_height": null,
            "max_width": null,
            "min_height": null,
            "min_width": null,
            "object_fit": null,
            "object_position": null,
            "order": null,
            "overflow": null,
            "overflow_x": null,
            "overflow_y": null,
            "padding": null,
            "right": null,
            "top": null,
            "visibility": null,
            "width": null
          }
        },
        "9b831902f0ba49b794dbd4bccfc96ac7": {
          "model_module": "@jupyter-widgets/controls",
          "model_name": "ProgressStyleModel",
          "model_module_version": "1.5.0",
          "state": {
            "_model_module": "@jupyter-widgets/controls",
            "_model_module_version": "1.5.0",
            "_model_name": "ProgressStyleModel",
            "_view_count": null,
            "_view_module": "@jupyter-widgets/base",
            "_view_module_version": "1.2.0",
            "_view_name": "StyleView",
            "bar_color": null,
            "description_width": ""
          }
        },
        "06d7f25cad3f4314a82f10acf8f72667": {
          "model_module": "@jupyter-widgets/base",
          "model_name": "LayoutModel",
          "model_module_version": "1.2.0",
          "state": {
            "_model_module": "@jupyter-widgets/base",
            "_model_module_version": "1.2.0",
            "_model_name": "LayoutModel",
            "_view_count": null,
            "_view_module": "@jupyter-widgets/base",
            "_view_module_version": "1.2.0",
            "_view_name": "LayoutView",
            "align_content": null,
            "align_items": null,
            "align_self": null,
            "border": null,
            "bottom": null,
            "display": null,
            "flex": null,
            "flex_flow": null,
            "grid_area": null,
            "grid_auto_columns": null,
            "grid_auto_flow": null,
            "grid_auto_rows": null,
            "grid_column": null,
            "grid_gap": null,
            "grid_row": null,
            "grid_template_areas": null,
            "grid_template_columns": null,
            "grid_template_rows": null,
            "height": null,
            "justify_content": null,
            "justify_items": null,
            "left": null,
            "margin": null,
            "max_height": null,
            "max_width": null,
            "min_height": null,
            "min_width": null,
            "object_fit": null,
            "object_position": null,
            "order": null,
            "overflow": null,
            "overflow_x": null,
            "overflow_y": null,
            "padding": null,
            "right": null,
            "top": null,
            "visibility": null,
            "width": null
          }
        },
        "3313652bfa294f9fbc6d50c7e3e73b30": {
          "model_module": "@jupyter-widgets/controls",
          "model_name": "DescriptionStyleModel",
          "model_module_version": "1.5.0",
          "state": {
            "_model_module": "@jupyter-widgets/controls",
            "_model_module_version": "1.5.0",
            "_model_name": "DescriptionStyleModel",
            "_view_count": null,
            "_view_module": "@jupyter-widgets/base",
            "_view_module_version": "1.2.0",
            "_view_name": "StyleView",
            "description_width": ""
          }
        }
      }
    }
  },
  "nbformat": 4,
  "nbformat_minor": 0
}