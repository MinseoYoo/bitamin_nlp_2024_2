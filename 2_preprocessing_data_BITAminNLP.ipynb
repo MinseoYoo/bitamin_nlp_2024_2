{
  "cells": [
    {
      "cell_type": "markdown",
      "metadata": {
        "id": "dctpG2j6lmJN"
      },
      "source": [
        "# 0. 폴더 생성 및 데이터 다운로드"
      ]
    },
    {
      "cell_type": "markdown",
      "metadata": {
        "id": "RuK4kx34lmJP"
      },
      "source": [
        "- 모든 resource 데이터는 rsc 폴더에 저장\n",
        "- rsc 폴더 생성"
      ]
    },
    {
      "cell_type": "code",
      "execution_count": null,
      "metadata": {
        "id": "xHSA0bj9lmJQ"
      },
      "outputs": [],
      "source": [
        "mkdir rsc"
      ]
    },
    {
      "cell_type": "markdown",
      "metadata": {
        "id": "NHu6FmwtlmJR"
      },
      "source": [
        "- AI Hub 문서요약텍스트 데이터 다운 : https://aihub.or.kr/aidata/8054\n",
        "- AI Hub 한국어대화요약 데이터 다운 : https://aihub.or.kr/aidata/30714\n",
        "- 각각 데이터 다운로드 한 후, 적당한 경로에 저장\n",
        "  - 문서요약텍스트의 경우 : rsc/Data/Training/AI_hub/\n",
        "      - 신문기사, 법률문서, 사설잡지\n",
        "  - 한국어대화요약의 경우 : rsc/Data/Training/AI_hub/한국어대화요약/      \n",
        "      - 개인및관게, 미용과건강, 상거래(쇼핑), 시사교육, 식음료, 여가생활, 일과직업, 주거와생활, 행사"
      ]
    },
    {
      "cell_type": "markdown",
      "metadata": {
        "id": "WjTbCoKnlmJR"
      },
      "source": [
        "rsc/Data/Training/AI_hub  \n",
        "&nbsp;&nbsp;&nbsp;&nbsp;⌞ 법률문서     \n",
        "&nbsp;&nbsp;&nbsp;&nbsp;⌞ 신문기사         \n",
        "&nbsp;&nbsp;&nbsp;&nbsp;⌞ 사설잡지           \n",
        "&nbsp;&nbsp;&nbsp;&nbsp;⌞ 한국어대화요약         \n",
        "&nbsp;&nbsp;&nbsp;&nbsp;&nbsp;&nbsp;&nbsp;&nbsp;&nbsp;&nbsp;&nbsp;&nbsp;&nbsp;⌞ 개인및관계     \n",
        "&nbsp;&nbsp;&nbsp;&nbsp;&nbsp;&nbsp;&nbsp;&nbsp;&nbsp;&nbsp;&nbsp;&nbsp;&nbsp;⌞ 미용과건강         \n",
        "&nbsp;&nbsp;&nbsp;&nbsp;&nbsp;&nbsp;&nbsp;&nbsp;&nbsp;&nbsp;&nbsp;&nbsp;&nbsp;⌞ 등등..."
      ]
    },
    {
      "cell_type": "markdown",
      "metadata": {
        "id": "MENta2zKlmJR"
      },
      "source": [
        "# 1. AI-Hub 신문기사, 법률문서, 사설잡지 데이터 정제\n",
        "\n",
        "++ 다운받은 데이터 압축 풀어서 저장하기"
      ]
    },
    {
      "cell_type": "markdown",
      "metadata": {
        "id": "em4hUThNlmJS"
      },
      "source": [
        "1. `pandas`, `json` import"
      ]
    },
    {
      "cell_type": "code",
      "execution_count": null,
      "metadata": {
        "id": "fSq-DtjjlmJS"
      },
      "outputs": [],
      "source": [
        "import pandas as pd\n",
        "import json"
      ]
    },
    {
      "cell_type": "markdown",
      "metadata": {
        "id": "u1GlQtMflmJS"
      },
      "source": [
        "2. aihub 에서 다운받은 `.json 파일` 로드 (aihub에서 다운받은 후, train_original.json으로 파일명 변경)"
      ]
    },
    {
      "cell_type": "code",
      "execution_count": null,
      "metadata": {
        "id": "_rdADsdTlmJT"
      },
      "outputs": [],
      "source": [
        "with open('/content/drive/MyDrive/BITAmin_nlp/rsc/Data/Training/AI_hub/Training/train_original.json') as f:\n",
        "    json_data = json.load(f)"
      ]
    },
    {
      "cell_type": "markdown",
      "metadata": {
        "id": "0HSrfpoalmJT"
      },
      "source": [
        "3. dataframe `df` 으로 저장"
      ]
    },
    {
      "cell_type": "code",
      "execution_count": null,
      "metadata": {
        "id": "hXLMTyczlmJT"
      },
      "outputs": [],
      "source": [
        "df = pd.DataFrame(json_data)"
      ]
    },
    {
      "cell_type": "markdown",
      "metadata": {
        "id": "IbcwpQfqlmJT"
      },
      "source": [
        "4. `df` 출력"
      ]
    },
    {
      "cell_type": "code",
      "execution_count": null,
      "metadata": {
        "colab": {
          "base_uri": "https://localhost:8080/",
          "height": 424
        },
        "id": "x03a162jlmJT",
        "outputId": "e8c08525-be1e-4f3f-890e-f0989d33b08d"
      },
      "outputs": [
        {
          "output_type": "execute_result",
          "data": {
            "text/plain": [
              "            name        delivery_date  \\\n",
              "0      법률문서 프로젝트  2020-12-23 17:23:13   \n",
              "1      법률문서 프로젝트  2020-12-23 17:23:13   \n",
              "2      법률문서 프로젝트  2020-12-23 17:23:13   \n",
              "3      법률문서 프로젝트  2020-12-23 17:23:13   \n",
              "4      법률문서 프로젝트  2020-12-23 17:23:13   \n",
              "...          ...                  ...   \n",
              "24324  법률문서 프로젝트  2020-12-23 17:23:13   \n",
              "24325  법률문서 프로젝트  2020-12-23 17:23:13   \n",
              "24326  법률문서 프로젝트  2020-12-23 17:23:13   \n",
              "24327  법률문서 프로젝트  2020-12-23 17:23:13   \n",
              "24328  법률문서 프로젝트  2020-12-23 17:23:13   \n",
              "\n",
              "                                               documents  \n",
              "0      {'id': '100004', 'category': '일반행정', 'size': '...  \n",
              "1      {'id': '100005', 'category': '세무', 'size': 'sm...  \n",
              "2      {'id': '100006', 'category': '세무', 'size': 'sm...  \n",
              "3      {'id': '100008', 'category': '세무', 'size': 'sm...  \n",
              "4      {'id': '100014', 'category': '세무', 'size': 'sm...  \n",
              "...                                                  ...  \n",
              "24324  {'id': '71798', 'category': '민사', 'size': 'sma...  \n",
              "24325  {'id': '71816', 'category': '민사', 'size': 'sma...  \n",
              "24326  {'id': '71817', 'category': '민사', 'size': 'sma...  \n",
              "24327  {'id': '71826', 'category': '민사', 'size': 'sma...  \n",
              "24328  {'id': '71828', 'category': '민사', 'size': 'sma...  \n",
              "\n",
              "[24329 rows x 3 columns]"
            ],
            "text/html": [
              "\n",
              "  <div id=\"df-ec3cd3c8-7a2b-40c5-a372-9d570105f72c\" class=\"colab-df-container\">\n",
              "    <div>\n",
              "<style scoped>\n",
              "    .dataframe tbody tr th:only-of-type {\n",
              "        vertical-align: middle;\n",
              "    }\n",
              "\n",
              "    .dataframe tbody tr th {\n",
              "        vertical-align: top;\n",
              "    }\n",
              "\n",
              "    .dataframe thead th {\n",
              "        text-align: right;\n",
              "    }\n",
              "</style>\n",
              "<table border=\"1\" class=\"dataframe\">\n",
              "  <thead>\n",
              "    <tr style=\"text-align: right;\">\n",
              "      <th></th>\n",
              "      <th>name</th>\n",
              "      <th>delivery_date</th>\n",
              "      <th>documents</th>\n",
              "    </tr>\n",
              "  </thead>\n",
              "  <tbody>\n",
              "    <tr>\n",
              "      <th>0</th>\n",
              "      <td>법률문서 프로젝트</td>\n",
              "      <td>2020-12-23 17:23:13</td>\n",
              "      <td>{'id': '100004', 'category': '일반행정', 'size': '...</td>\n",
              "    </tr>\n",
              "    <tr>\n",
              "      <th>1</th>\n",
              "      <td>법률문서 프로젝트</td>\n",
              "      <td>2020-12-23 17:23:13</td>\n",
              "      <td>{'id': '100005', 'category': '세무', 'size': 'sm...</td>\n",
              "    </tr>\n",
              "    <tr>\n",
              "      <th>2</th>\n",
              "      <td>법률문서 프로젝트</td>\n",
              "      <td>2020-12-23 17:23:13</td>\n",
              "      <td>{'id': '100006', 'category': '세무', 'size': 'sm...</td>\n",
              "    </tr>\n",
              "    <tr>\n",
              "      <th>3</th>\n",
              "      <td>법률문서 프로젝트</td>\n",
              "      <td>2020-12-23 17:23:13</td>\n",
              "      <td>{'id': '100008', 'category': '세무', 'size': 'sm...</td>\n",
              "    </tr>\n",
              "    <tr>\n",
              "      <th>4</th>\n",
              "      <td>법률문서 프로젝트</td>\n",
              "      <td>2020-12-23 17:23:13</td>\n",
              "      <td>{'id': '100014', 'category': '세무', 'size': 'sm...</td>\n",
              "    </tr>\n",
              "    <tr>\n",
              "      <th>...</th>\n",
              "      <td>...</td>\n",
              "      <td>...</td>\n",
              "      <td>...</td>\n",
              "    </tr>\n",
              "    <tr>\n",
              "      <th>24324</th>\n",
              "      <td>법률문서 프로젝트</td>\n",
              "      <td>2020-12-23 17:23:13</td>\n",
              "      <td>{'id': '71798', 'category': '민사', 'size': 'sma...</td>\n",
              "    </tr>\n",
              "    <tr>\n",
              "      <th>24325</th>\n",
              "      <td>법률문서 프로젝트</td>\n",
              "      <td>2020-12-23 17:23:13</td>\n",
              "      <td>{'id': '71816', 'category': '민사', 'size': 'sma...</td>\n",
              "    </tr>\n",
              "    <tr>\n",
              "      <th>24326</th>\n",
              "      <td>법률문서 프로젝트</td>\n",
              "      <td>2020-12-23 17:23:13</td>\n",
              "      <td>{'id': '71817', 'category': '민사', 'size': 'sma...</td>\n",
              "    </tr>\n",
              "    <tr>\n",
              "      <th>24327</th>\n",
              "      <td>법률문서 프로젝트</td>\n",
              "      <td>2020-12-23 17:23:13</td>\n",
              "      <td>{'id': '71826', 'category': '민사', 'size': 'sma...</td>\n",
              "    </tr>\n",
              "    <tr>\n",
              "      <th>24328</th>\n",
              "      <td>법률문서 프로젝트</td>\n",
              "      <td>2020-12-23 17:23:13</td>\n",
              "      <td>{'id': '71828', 'category': '민사', 'size': 'sma...</td>\n",
              "    </tr>\n",
              "  </tbody>\n",
              "</table>\n",
              "<p>24329 rows × 3 columns</p>\n",
              "</div>\n",
              "    <div class=\"colab-df-buttons\">\n",
              "\n",
              "  <div class=\"colab-df-container\">\n",
              "    <button class=\"colab-df-convert\" onclick=\"convertToInteractive('df-ec3cd3c8-7a2b-40c5-a372-9d570105f72c')\"\n",
              "            title=\"Convert this dataframe to an interactive table.\"\n",
              "            style=\"display:none;\">\n",
              "\n",
              "  <svg xmlns=\"http://www.w3.org/2000/svg\" height=\"24px\" viewBox=\"0 -960 960 960\">\n",
              "    <path d=\"M120-120v-720h720v720H120Zm60-500h600v-160H180v160Zm220 220h160v-160H400v160Zm0 220h160v-160H400v160ZM180-400h160v-160H180v160Zm440 0h160v-160H620v160ZM180-180h160v-160H180v160Zm440 0h160v-160H620v160Z\"/>\n",
              "  </svg>\n",
              "    </button>\n",
              "\n",
              "  <style>\n",
              "    .colab-df-container {\n",
              "      display:flex;\n",
              "      gap: 12px;\n",
              "    }\n",
              "\n",
              "    .colab-df-convert {\n",
              "      background-color: #E8F0FE;\n",
              "      border: none;\n",
              "      border-radius: 50%;\n",
              "      cursor: pointer;\n",
              "      display: none;\n",
              "      fill: #1967D2;\n",
              "      height: 32px;\n",
              "      padding: 0 0 0 0;\n",
              "      width: 32px;\n",
              "    }\n",
              "\n",
              "    .colab-df-convert:hover {\n",
              "      background-color: #E2EBFA;\n",
              "      box-shadow: 0px 1px 2px rgba(60, 64, 67, 0.3), 0px 1px 3px 1px rgba(60, 64, 67, 0.15);\n",
              "      fill: #174EA6;\n",
              "    }\n",
              "\n",
              "    .colab-df-buttons div {\n",
              "      margin-bottom: 4px;\n",
              "    }\n",
              "\n",
              "    [theme=dark] .colab-df-convert {\n",
              "      background-color: #3B4455;\n",
              "      fill: #D2E3FC;\n",
              "    }\n",
              "\n",
              "    [theme=dark] .colab-df-convert:hover {\n",
              "      background-color: #434B5C;\n",
              "      box-shadow: 0px 1px 3px 1px rgba(0, 0, 0, 0.15);\n",
              "      filter: drop-shadow(0px 1px 2px rgba(0, 0, 0, 0.3));\n",
              "      fill: #FFFFFF;\n",
              "    }\n",
              "  </style>\n",
              "\n",
              "    <script>\n",
              "      const buttonEl =\n",
              "        document.querySelector('#df-ec3cd3c8-7a2b-40c5-a372-9d570105f72c button.colab-df-convert');\n",
              "      buttonEl.style.display =\n",
              "        google.colab.kernel.accessAllowed ? 'block' : 'none';\n",
              "\n",
              "      async function convertToInteractive(key) {\n",
              "        const element = document.querySelector('#df-ec3cd3c8-7a2b-40c5-a372-9d570105f72c');\n",
              "        const dataTable =\n",
              "          await google.colab.kernel.invokeFunction('convertToInteractive',\n",
              "                                                    [key], {});\n",
              "        if (!dataTable) return;\n",
              "\n",
              "        const docLinkHtml = 'Like what you see? Visit the ' +\n",
              "          '<a target=\"_blank\" href=https://colab.research.google.com/notebooks/data_table.ipynb>data table notebook</a>'\n",
              "          + ' to learn more about interactive tables.';\n",
              "        element.innerHTML = '';\n",
              "        dataTable['output_type'] = 'display_data';\n",
              "        await google.colab.output.renderOutput(dataTable, element);\n",
              "        const docLink = document.createElement('div');\n",
              "        docLink.innerHTML = docLinkHtml;\n",
              "        element.appendChild(docLink);\n",
              "      }\n",
              "    </script>\n",
              "  </div>\n",
              "\n",
              "\n",
              "<div id=\"df-93b90ebb-8a4e-4d4d-9d3b-5ce28d05f4bb\">\n",
              "  <button class=\"colab-df-quickchart\" onclick=\"quickchart('df-93b90ebb-8a4e-4d4d-9d3b-5ce28d05f4bb')\"\n",
              "            title=\"Suggest charts\"\n",
              "            style=\"display:none;\">\n",
              "\n",
              "<svg xmlns=\"http://www.w3.org/2000/svg\" height=\"24px\"viewBox=\"0 0 24 24\"\n",
              "     width=\"24px\">\n",
              "    <g>\n",
              "        <path d=\"M19 3H5c-1.1 0-2 .9-2 2v14c0 1.1.9 2 2 2h14c1.1 0 2-.9 2-2V5c0-1.1-.9-2-2-2zM9 17H7v-7h2v7zm4 0h-2V7h2v10zm4 0h-2v-4h2v4z\"/>\n",
              "    </g>\n",
              "</svg>\n",
              "  </button>\n",
              "\n",
              "<style>\n",
              "  .colab-df-quickchart {\n",
              "      --bg-color: #E8F0FE;\n",
              "      --fill-color: #1967D2;\n",
              "      --hover-bg-color: #E2EBFA;\n",
              "      --hover-fill-color: #174EA6;\n",
              "      --disabled-fill-color: #AAA;\n",
              "      --disabled-bg-color: #DDD;\n",
              "  }\n",
              "\n",
              "  [theme=dark] .colab-df-quickchart {\n",
              "      --bg-color: #3B4455;\n",
              "      --fill-color: #D2E3FC;\n",
              "      --hover-bg-color: #434B5C;\n",
              "      --hover-fill-color: #FFFFFF;\n",
              "      --disabled-bg-color: #3B4455;\n",
              "      --disabled-fill-color: #666;\n",
              "  }\n",
              "\n",
              "  .colab-df-quickchart {\n",
              "    background-color: var(--bg-color);\n",
              "    border: none;\n",
              "    border-radius: 50%;\n",
              "    cursor: pointer;\n",
              "    display: none;\n",
              "    fill: var(--fill-color);\n",
              "    height: 32px;\n",
              "    padding: 0;\n",
              "    width: 32px;\n",
              "  }\n",
              "\n",
              "  .colab-df-quickchart:hover {\n",
              "    background-color: var(--hover-bg-color);\n",
              "    box-shadow: 0 1px 2px rgba(60, 64, 67, 0.3), 0 1px 3px 1px rgba(60, 64, 67, 0.15);\n",
              "    fill: var(--button-hover-fill-color);\n",
              "  }\n",
              "\n",
              "  .colab-df-quickchart-complete:disabled,\n",
              "  .colab-df-quickchart-complete:disabled:hover {\n",
              "    background-color: var(--disabled-bg-color);\n",
              "    fill: var(--disabled-fill-color);\n",
              "    box-shadow: none;\n",
              "  }\n",
              "\n",
              "  .colab-df-spinner {\n",
              "    border: 2px solid var(--fill-color);\n",
              "    border-color: transparent;\n",
              "    border-bottom-color: var(--fill-color);\n",
              "    animation:\n",
              "      spin 1s steps(1) infinite;\n",
              "  }\n",
              "\n",
              "  @keyframes spin {\n",
              "    0% {\n",
              "      border-color: transparent;\n",
              "      border-bottom-color: var(--fill-color);\n",
              "      border-left-color: var(--fill-color);\n",
              "    }\n",
              "    20% {\n",
              "      border-color: transparent;\n",
              "      border-left-color: var(--fill-color);\n",
              "      border-top-color: var(--fill-color);\n",
              "    }\n",
              "    30% {\n",
              "      border-color: transparent;\n",
              "      border-left-color: var(--fill-color);\n",
              "      border-top-color: var(--fill-color);\n",
              "      border-right-color: var(--fill-color);\n",
              "    }\n",
              "    40% {\n",
              "      border-color: transparent;\n",
              "      border-right-color: var(--fill-color);\n",
              "      border-top-color: var(--fill-color);\n",
              "    }\n",
              "    60% {\n",
              "      border-color: transparent;\n",
              "      border-right-color: var(--fill-color);\n",
              "    }\n",
              "    80% {\n",
              "      border-color: transparent;\n",
              "      border-right-color: var(--fill-color);\n",
              "      border-bottom-color: var(--fill-color);\n",
              "    }\n",
              "    90% {\n",
              "      border-color: transparent;\n",
              "      border-bottom-color: var(--fill-color);\n",
              "    }\n",
              "  }\n",
              "</style>\n",
              "\n",
              "  <script>\n",
              "    async function quickchart(key) {\n",
              "      const quickchartButtonEl =\n",
              "        document.querySelector('#' + key + ' button');\n",
              "      quickchartButtonEl.disabled = true;  // To prevent multiple clicks.\n",
              "      quickchartButtonEl.classList.add('colab-df-spinner');\n",
              "      try {\n",
              "        const charts = await google.colab.kernel.invokeFunction(\n",
              "            'suggestCharts', [key], {});\n",
              "      } catch (error) {\n",
              "        console.error('Error during call to suggestCharts:', error);\n",
              "      }\n",
              "      quickchartButtonEl.classList.remove('colab-df-spinner');\n",
              "      quickchartButtonEl.classList.add('colab-df-quickchart-complete');\n",
              "    }\n",
              "    (() => {\n",
              "      let quickchartButtonEl =\n",
              "        document.querySelector('#df-93b90ebb-8a4e-4d4d-9d3b-5ce28d05f4bb button');\n",
              "      quickchartButtonEl.style.display =\n",
              "        google.colab.kernel.accessAllowed ? 'block' : 'none';\n",
              "    })();\n",
              "  </script>\n",
              "</div>\n",
              "\n",
              "  <div id=\"id_43e7f433-0df9-4f3c-977a-bbe23a6d813a\">\n",
              "    <style>\n",
              "      .colab-df-generate {\n",
              "        background-color: #E8F0FE;\n",
              "        border: none;\n",
              "        border-radius: 50%;\n",
              "        cursor: pointer;\n",
              "        display: none;\n",
              "        fill: #1967D2;\n",
              "        height: 32px;\n",
              "        padding: 0 0 0 0;\n",
              "        width: 32px;\n",
              "      }\n",
              "\n",
              "      .colab-df-generate:hover {\n",
              "        background-color: #E2EBFA;\n",
              "        box-shadow: 0px 1px 2px rgba(60, 64, 67, 0.3), 0px 1px 3px 1px rgba(60, 64, 67, 0.15);\n",
              "        fill: #174EA6;\n",
              "      }\n",
              "\n",
              "      [theme=dark] .colab-df-generate {\n",
              "        background-color: #3B4455;\n",
              "        fill: #D2E3FC;\n",
              "      }\n",
              "\n",
              "      [theme=dark] .colab-df-generate:hover {\n",
              "        background-color: #434B5C;\n",
              "        box-shadow: 0px 1px 3px 1px rgba(0, 0, 0, 0.15);\n",
              "        filter: drop-shadow(0px 1px 2px rgba(0, 0, 0, 0.3));\n",
              "        fill: #FFFFFF;\n",
              "      }\n",
              "    </style>\n",
              "    <button class=\"colab-df-generate\" onclick=\"generateWithVariable('df')\"\n",
              "            title=\"Generate code using this dataframe.\"\n",
              "            style=\"display:none;\">\n",
              "\n",
              "  <svg xmlns=\"http://www.w3.org/2000/svg\" height=\"24px\"viewBox=\"0 0 24 24\"\n",
              "       width=\"24px\">\n",
              "    <path d=\"M7,19H8.4L18.45,9,17,7.55,7,17.6ZM5,21V16.75L18.45,3.32a2,2,0,0,1,2.83,0l1.4,1.43a1.91,1.91,0,0,1,.58,1.4,1.91,1.91,0,0,1-.58,1.4L9.25,21ZM18.45,9,17,7.55Zm-12,3A5.31,5.31,0,0,0,4.9,8.1,5.31,5.31,0,0,0,1,6.5,5.31,5.31,0,0,0,4.9,4.9,5.31,5.31,0,0,0,6.5,1,5.31,5.31,0,0,0,8.1,4.9,5.31,5.31,0,0,0,12,6.5,5.46,5.46,0,0,0,6.5,12Z\"/>\n",
              "  </svg>\n",
              "    </button>\n",
              "    <script>\n",
              "      (() => {\n",
              "      const buttonEl =\n",
              "        document.querySelector('#id_43e7f433-0df9-4f3c-977a-bbe23a6d813a button.colab-df-generate');\n",
              "      buttonEl.style.display =\n",
              "        google.colab.kernel.accessAllowed ? 'block' : 'none';\n",
              "\n",
              "      buttonEl.onclick = () => {\n",
              "        google.colab.notebook.generateWithVariable('df');\n",
              "      }\n",
              "      })();\n",
              "    </script>\n",
              "  </div>\n",
              "\n",
              "    </div>\n",
              "  </div>\n"
            ],
            "application/vnd.google.colaboratory.intrinsic+json": {
              "type": "dataframe",
              "variable_name": "df",
              "summary": "{\n  \"name\": \"df\",\n  \"rows\": 24329,\n  \"fields\": [\n    {\n      \"column\": \"name\",\n      \"properties\": {\n        \"dtype\": \"category\",\n        \"num_unique_values\": 1,\n        \"samples\": [\n          \"\\ubc95\\ub960\\ubb38\\uc11c \\ud504\\ub85c\\uc81d\\ud2b8\"\n        ],\n        \"semantic_type\": \"\",\n        \"description\": \"\"\n      }\n    },\n    {\n      \"column\": \"delivery_date\",\n      \"properties\": {\n        \"dtype\": \"object\",\n        \"num_unique_values\": 1,\n        \"samples\": [\n          \"2020-12-23 17:23:13\"\n        ],\n        \"semantic_type\": \"\",\n        \"description\": \"\"\n      }\n    },\n    {\n      \"column\": \"documents\",\n      \"properties\": {\n        \"dtype\": \"object\",\n        \"semantic_type\": \"\",\n        \"description\": \"\"\n      }\n    }\n  ]\n}"
            }
          },
          "metadata": {},
          "execution_count": 27
        }
      ],
      "source": [
        "df"
      ]
    },
    {
      "cell_type": "code",
      "source": [
        "import pandas as pd\n",
        "import json\n",
        "\n",
        "# 'document' 컬럼에 있는 딕셔너리를 별도의 컬럼으로 확장\n",
        "if 'document' in df.columns:\n",
        "    document_df = pd.json_normalize(df['document'])\n",
        "    df = pd.concat([df.drop(columns=['document']), document_df], axis=1)\n",
        "\n",
        "# 결과 확인\n",
        "print(\"Expanded JSON Data:\")\n",
        "print(df.head())  # 상위 5개 행을 출력합니다. 전체를 보려면 df를 사용하세요.\n"
      ],
      "metadata": {
        "colab": {
          "base_uri": "https://localhost:8080/"
        },
        "id": "-jsX3udop2u8",
        "outputId": "eb1ed474-f8d3-4adb-b140-b52ed4c3d5e9"
      },
      "execution_count": null,
      "outputs": [
        {
          "output_type": "stream",
          "name": "stdout",
          "text": [
            "Expanded JSON Data:\n",
            "        name        delivery_date  \\\n",
            "0  법률문서 프로젝트  2020-12-23 17:23:13   \n",
            "1  법률문서 프로젝트  2020-12-23 17:23:13   \n",
            "2  법률문서 프로젝트  2020-12-23 17:23:13   \n",
            "3  법률문서 프로젝트  2020-12-23 17:23:13   \n",
            "4  법률문서 프로젝트  2020-12-23 17:23:13   \n",
            "\n",
            "                                           documents  \n",
            "0  {'id': '100004', 'category': '일반행정', 'size': '...  \n",
            "1  {'id': '100005', 'category': '세무', 'size': 'sm...  \n",
            "2  {'id': '100006', 'category': '세무', 'size': 'sm...  \n",
            "3  {'id': '100008', 'category': '세무', 'size': 'sm...  \n",
            "4  {'id': '100014', 'category': '세무', 'size': 'sm...  \n"
          ]
        }
      ]
    },
    {
      "cell_type": "markdown",
      "metadata": {
        "id": "mycyWtaFlmJU"
      },
      "source": [
        "5. `df`에서 필요한 column 만 추출하여 `new_df`에 저장 및 출력"
      ]
    },
    {
      "cell_type": "code",
      "source": [
        "new_df = df[['id', 'category', 'publish_date', 'text', 'abstractive', 'extractive']]\n"
      ],
      "metadata": {
        "id": "msNyl-tkp2aY"
      },
      "execution_count": null,
      "outputs": []
    },
    {
      "cell_type": "markdown",
      "metadata": {
        "id": "QlEdCN7ylmJU"
      },
      "source": [
        "6. `new_df` 의 `abstractive` column에 요약문이 2개 이상인지 확인 (결과:없음)"
      ]
    },
    {
      "cell_type": "code",
      "execution_count": null,
      "metadata": {
        "id": "6uT0qDErlmJU"
      },
      "outputs": [],
      "source": [
        "for i in range(len(new_df)):\n",
        "    if len(new_df.loc[i, 'abstractive']) != 1:\n",
        "        print(i)"
      ]
    },
    {
      "cell_type": "markdown",
      "metadata": {
        "id": "Q0EvuJHulmJU"
      },
      "source": [
        "7. text와 abstractive 정제   \n",
        "\n",
        "     **text** 리스트 중 **sentence**만 추출하여 new_df 의 `text` 에 저장  \n",
        "     **abstractive** 리스트 중 **첫번째 데이터**만 추출하여 new_df 의 `abstractive` 에 저장"
      ]
    },
    {
      "cell_type": "code",
      "execution_count": null,
      "metadata": {
        "id": "wjSYfDYJlmJU"
      },
      "outputs": [],
      "source": [
        "for i in range(len(new_df)):\n",
        "    context = pd.DataFrame(new_df.loc[i, 'text'])\n",
        "    new_df.loc[i, 'text'] = context['sentence'].str.cat()\n",
        "    new_df.loc[i, 'abstractive'] = new_df.loc[i, 'abstractive'][0]"
      ]
    },
    {
      "cell_type": "markdown",
      "metadata": {
        "id": "aplxU899lmJU"
      },
      "source": [
        "8. `new_df` 출력"
      ]
    },
    {
      "cell_type": "code",
      "execution_count": null,
      "metadata": {
        "id": "N3bdDMmUlmJU"
      },
      "outputs": [],
      "source": [
        "new_df"
      ]
    },
    {
      "cell_type": "markdown",
      "metadata": {
        "id": "h68YevEplmJU"
      },
      "source": [
        "9. 결측값 확인"
      ]
    },
    {
      "cell_type": "code",
      "execution_count": null,
      "metadata": {
        "id": "fuILyMkLlmJU",
        "outputId": "311c362d-b48b-4a43-c6bf-accc0ca1c3c3"
      },
      "outputs": [
        {
          "data": {
            "text/plain": [
              "id                0\n",
              "category        430\n",
              "publish_date      0\n",
              "text              0\n",
              "abstractive       0\n",
              "extractive        0\n",
              "dtype: int64"
            ]
          },
          "execution_count": 49,
          "metadata": {},
          "output_type": "execute_result"
        }
      ],
      "source": [
        "new_df.isnull().sum()"
      ]
    },
    {
      "cell_type": "markdown",
      "metadata": {
        "id": "-99eEYSslmJU"
      },
      "source": [
        "10. 결측값 있는 행 삭제 후 저장 (text, abstractive 결측값 있는지만 확인 -> 있으면 아래 코드 실행)"
      ]
    },
    {
      "cell_type": "code",
      "execution_count": null,
      "metadata": {
        "id": "JYVExsLXlmJV"
      },
      "outputs": [],
      "source": [
        "new_df.dropna(subset=['abstractive'], inplace=True) # 'abstractive' or 'text'"
      ]
    },
    {
      "cell_type": "markdown",
      "metadata": {
        "id": "S0X441SDlmJV"
      },
      "source": [
        "11. `new_df` 중 첫번째 text 출력해보기"
      ]
    },
    {
      "cell_type": "code",
      "execution_count": null,
      "metadata": {
        "id": "EajqGnWmlmJV",
        "outputId": "315eba02-ef20-4a51-a275-27b98a0e9b4a"
      },
      "outputs": [
        {
          "data": {
            "text/plain": [
              "'변근아\"작은별 일루와. 모래놀이할건데 양말 신고 가자.\"14일 오후 1시 오산시 세교동에 위치한 한 전원주택.\\'숲이랑 놀자\\'라는 작은 팻말이 달린 1층짜리 작은 집 근처로 다가가자 아이들의 활기찬 웃음소리가 밖으로 퍼져나오는 것을 들을 수 있었다.이 곳은 지난해 사립유치원 회계 비리 문제 규탄에 나섰던 동탄 지역 학부모들이 모여 지난 4일 문을 연 공동육아나눔터로 현재 7가족이 모여 아이들을 같이 돌보고 있는 장소기도 하다.당초 학부모 협동조합형 유치원을 운영하려 했으나, 임대 공간 문제로 유치원 운영이 내년 상반기에나 가능해지면서 기다리는 1년여 동안 부모들이 공동육아에 나선 것이다.이날도 엄마 4명이 모여 친구들과 거실을 마음껏 뛰어다니고 있는 아이들을 살갑게 챙기는 모습을 확인할 수 있었다.집안을 들어서자마자 보이는 거실 벽을 비롯해 각 방에는 아이들이 그려놓은 그림과 손바닥에 페인트를 칠해 손도장을 찍은 작품들이 가득했다.현재 \\'숲이랑 놀자\\'를 다니고 있는 아이들은 총 11명으로 영유아부터 4~7세까지 연령대도 다양하다.가정보육을 받다 온 아이도 있고, 올해 새롭게 유치원에 입학하려다 사립유치원 문제가 터지면서 공동육아나눔터를 찾은 아이도 있다.4살 아이와 태어난 지 얼마 되지 않은 아이를 데리고 공동육아나눔터를 오는 엄모(32·여)씨는 \"부모님도 그렇고 그냥 어린이집을 보내라는 말을 많이 했는데, 내가 직접 아이를 돌보고 아이들도 마음껏 뛰어놀 수 있는 장점 등에 공동육아를 선택하게 됐다\"고 설명했다.오전 9시에서 9시30분 사이 아이들이 자유롭게 도착하면 시작되는 공동육아는 오후 3시30분까지 진행된다.이 시간동안 학부모들은 아이들과 집 뒤편에 있는 작은 산을 올라 숲체험을 하기도 하고, 집 앞에 꾸며놓은 텃밭을 일구거나 모래밭에 들어가 흙장난도 하는 등 말 그대로 자유롭게 노는 생활을 보내고 있다.이 곳에서 강조되는 것은 \\'잘 놀자\\' 딱 하나다.무언가를 많이 시키기 보다는 아이들이 하고 싶은 것을 할 수 있도록 지원해주자는 학부모들의 의견이 모아 만들어진 교육 목표다.이런 생활을 유지하기 위해 학부모들은 거의 매주 기획·교육·시설팀 등 각 분야를 나눠 아이들을 잘 기르기 위한 방안을 고민하고, 공동육아나눔터를 관리하기도 한다.이들은 또 공동육아 운영과정에서 배운 장단점을 잘 분석해 협동조합 유치원 운영에 반영하겠다는 계획도 세운 상태다.5세 아이를 데리고 오는 김모(37·여)씨는 \"이번 개학연기 사태도 그렇고 아이들을 인질 삼는 사립유치원에 대해 알고는 아이를 보내고 싶지가 않더라\"면서 \"사실 내 아이 뿐만 아니라 다른 아이들도 같이 봐야하는 것이 공동육아다 보니 많이 힘들 거라고 생각했는데, 다음 달부터는 4살 동생도 데리고 와서 공동 육아할 생각이다. 이렇게 뜻이 맞는 가족들이 모여 공동육아를 진행하는 게 너무 소중하다\"고 말했다.'"
            ]
          },
          "execution_count": 9,
          "metadata": {},
          "output_type": "execute_result"
        }
      ],
      "source": [
        "new_df['text'][0]"
      ]
    },
    {
      "cell_type": "markdown",
      "metadata": {
        "id": "do8KK5HAlmJV"
      },
      "source": [
        "12. `new_df` 를 `train_v1.csv` 로 저장"
      ]
    },
    {
      "cell_type": "code",
      "execution_count": null,
      "metadata": {
        "id": "YiatBBxzlmJV"
      },
      "outputs": [],
      "source": [
        "new_df.to_csv('rsc/Data/Training/AI_hub/신문기사/train_v1.csv')"
      ]
    },
    {
      "cell_type": "markdown",
      "metadata": {
        "id": "zL3wojV2lmJV"
      },
      "source": [
        "13. `train_v1.csv` 를 다시 읽어 출력 (저장 확인용)"
      ]
    },
    {
      "cell_type": "code",
      "execution_count": null,
      "metadata": {
        "id": "3mNms2iulmJV",
        "outputId": "6098cdd0-3f97-4015-e7c1-4dfbb2d16b3c"
      },
      "outputs": [
        {
          "data": {
            "text/html": [
              "<div>\n",
              "<style scoped>\n",
              "    .dataframe tbody tr th:only-of-type {\n",
              "        vertical-align: middle;\n",
              "    }\n",
              "\n",
              "    .dataframe tbody tr th {\n",
              "        vertical-align: top;\n",
              "    }\n",
              "\n",
              "    .dataframe thead th {\n",
              "        text-align: right;\n",
              "    }\n",
              "</style>\n",
              "<table border=\"1\" class=\"dataframe\">\n",
              "  <thead>\n",
              "    <tr style=\"text-align: right;\">\n",
              "      <th></th>\n",
              "      <th>id</th>\n",
              "      <th>category</th>\n",
              "      <th>publish_date</th>\n",
              "      <th>text</th>\n",
              "      <th>abstractive</th>\n",
              "      <th>extractive</th>\n",
              "    </tr>\n",
              "  </thead>\n",
              "  <tbody>\n",
              "    <tr>\n",
              "      <th>0</th>\n",
              "      <td>337574245</td>\n",
              "      <td>종합</td>\n",
              "      <td>2019-03-14 19:07:12</td>\n",
              "      <td>변근아\"작은별 일루와. 모래놀이할건데 양말 신고 가자.\"14일 오후 1시 오산시 세...</td>\n",
              "      <td>사립유치원 회계 비리 문제 규탄에 나섰던 동탄 지역 학부모들 7가족이 모여 지난 4...</td>\n",
              "      <td>[4, 2, 13]</td>\n",
              "    </tr>\n",
              "    <tr>\n",
              "      <th>1</th>\n",
              "      <td>365817620</td>\n",
              "      <td>경제</td>\n",
              "      <td>2019-11-05 07:38:00</td>\n",
              "      <td>가입연령 60세→55세 하향 추진주택가격 기준 상향방안도 논의대구 가입자 3148·...</td>\n",
              "      <td>정부가 사망시까지 연금을 지급하고 평생거주를 보장하는 '주택연금'의 가입연령을, 현...</td>\n",
              "      <td>[10, 12, 19]</td>\n",
              "    </tr>\n",
              "    <tr>\n",
              "      <th>2</th>\n",
              "      <td>366267384</td>\n",
              "      <td>경제</td>\n",
              "      <td>2019-11-07 19:41:21</td>\n",
              "      <td>진천 보련·충주 내포긴들 은상증평 통미·음성 신댕이 동상[충청일보 이정규 기자] 충...</td>\n",
              "      <td>충북농협은 농협중앙회가 주관하는 '2회 깨끗하고 아름다운 농촌마을 가꾸기 경진대회'...</td>\n",
              "      <td>[2, 5, 6]</td>\n",
              "    </tr>\n",
              "    <tr>\n",
              "      <th>3</th>\n",
              "      <td>330083635</td>\n",
              "      <td>종합</td>\n",
              "      <td>2019-01-06 00:00:00</td>\n",
              "      <td>박영재인천지방해양수산청(청장 박경철)은 13인 이상의 여객을 운송하는 여객선(유·도...</td>\n",
              "      <td>인천지방해양수산청은 13인 이상 여객선 선장들의 직무 수행능력 및 사고 발생시 대응...</td>\n",
              "      <td>[1, 4, 8]</td>\n",
              "    </tr>\n",
              "    <tr>\n",
              "      <th>4</th>\n",
              "      <td>334328294</td>\n",
              "      <td>종합</td>\n",
              "      <td>2019-02-15 12:31:00</td>\n",
              "      <td>35명 도의원 15일 성명 자유한국당 김진태 이종명 김순례 즉각 제명 요구제주특별자...</td>\n",
              "      <td>제주도의회 35명 의원은 15일  5·18광주민주화운동을 폄훼한 자유한국당 소속 김...</td>\n",
              "      <td>[1, 2, 3]</td>\n",
              "    </tr>\n",
              "    <tr>\n",
              "      <th>...</th>\n",
              "      <td>...</td>\n",
              "      <td>...</td>\n",
              "      <td>...</td>\n",
              "      <td>...</td>\n",
              "      <td>...</td>\n",
              "      <td>...</td>\n",
              "    </tr>\n",
              "    <tr>\n",
              "      <th>240963</th>\n",
              "      <td>342904723</td>\n",
              "      <td>종합</td>\n",
              "      <td>2019-04-25 18:05:40</td>\n",
              "      <td>전북도는 24일 고사동 객리단길 내 전주영화도서관&amp;카페에서 '제1회 도란도란 토크콘...</td>\n",
              "      <td>전북도는, 도지사 공약사업 실천 및 청년들의 아이디어를 도정에 접목시키기 위해, 2...</td>\n",
              "      <td>[0, 1, 4]</td>\n",
              "    </tr>\n",
              "    <tr>\n",
              "      <th>240964</th>\n",
              "      <td>345485588</td>\n",
              "      <td>종합</td>\n",
              "      <td>2019-05-17 11:41:00</td>\n",
              "      <td>정부가 우리 경제 하방리스크가 확대되면서 주요 실물지표 흐름이 두달째 부진한 모습이...</td>\n",
              "      <td>미중 무역갈등이 초래한 세계경제 둔화 및 국제금융시장의 높은 변동성으로 대한민국 경...</td>\n",
              "      <td>[0, 1, 14]</td>\n",
              "    </tr>\n",
              "    <tr>\n",
              "      <th>240965</th>\n",
              "      <td>339576576</td>\n",
              "      <td>종합</td>\n",
              "      <td>2019-03-31 16:30:50</td>\n",
              "      <td>불법행위 '택시기사 삼진아웃제' 6월 시행[중부매일 이민우 기자] 지난달 충북지역의...</td>\n",
              "      <td>청주시는 오는 6월부터 승차거부, 부당요금 징수 등 불법행위를 최근 2년 이내 3회...</td>\n",
              "      <td>[2, 4, 7]</td>\n",
              "    </tr>\n",
              "    <tr>\n",
              "      <th>240966</th>\n",
              "      <td>332010887</td>\n",
              "      <td>사회</td>\n",
              "      <td>2019-01-23 21:35:54</td>\n",
              "      <td>도교육청, 오는 3월 예정내달 15일까지 단원 모집[충청일보 이정규기자] 충북도교육...</td>\n",
              "      <td>충북예술교육을 이끌어 갈 충북청소년국악관현악단이 오는 3월 창단을 목표로 도내 초,...</td>\n",
              "      <td>[3, 4, 10]</td>\n",
              "    </tr>\n",
              "    <tr>\n",
              "      <th>240967</th>\n",
              "      <td>344515561</td>\n",
              "      <td>정치</td>\n",
              "      <td>2019-05-09 21:24:37</td>\n",
              "      <td>기고사례자는 2000년생으로서 2019년도 병역판정검사대상자입니다.병역판정검사 일자...</td>\n",
              "      <td>6월에 병역판정을 받고자 하는 사례자는 전북도내 광주전남지방병무청, 실거주지에서도 ...</td>\n",
              "      <td>[3, 6, 8]</td>\n",
              "    </tr>\n",
              "  </tbody>\n",
              "</table>\n",
              "<p>240968 rows × 6 columns</p>\n",
              "</div>"
            ],
            "text/plain": [
              "               id category         publish_date  \\\n",
              "0       337574245       종합  2019-03-14 19:07:12   \n",
              "1       365817620       경제  2019-11-05 07:38:00   \n",
              "2       366267384       경제  2019-11-07 19:41:21   \n",
              "3       330083635       종합  2019-01-06 00:00:00   \n",
              "4       334328294       종합  2019-02-15 12:31:00   \n",
              "...           ...      ...                  ...   \n",
              "240963  342904723       종합  2019-04-25 18:05:40   \n",
              "240964  345485588       종합  2019-05-17 11:41:00   \n",
              "240965  339576576       종합  2019-03-31 16:30:50   \n",
              "240966  332010887       사회  2019-01-23 21:35:54   \n",
              "240967  344515561       정치  2019-05-09 21:24:37   \n",
              "\n",
              "                                                     text  \\\n",
              "0       변근아\"작은별 일루와. 모래놀이할건데 양말 신고 가자.\"14일 오후 1시 오산시 세...   \n",
              "1       가입연령 60세→55세 하향 추진주택가격 기준 상향방안도 논의대구 가입자 3148·...   \n",
              "2       진천 보련·충주 내포긴들 은상증평 통미·음성 신댕이 동상[충청일보 이정규 기자] 충...   \n",
              "3       박영재인천지방해양수산청(청장 박경철)은 13인 이상의 여객을 운송하는 여객선(유·도...   \n",
              "4       35명 도의원 15일 성명 자유한국당 김진태 이종명 김순례 즉각 제명 요구제주특별자...   \n",
              "...                                                   ...   \n",
              "240963  전북도는 24일 고사동 객리단길 내 전주영화도서관&카페에서 '제1회 도란도란 토크콘...   \n",
              "240964  정부가 우리 경제 하방리스크가 확대되면서 주요 실물지표 흐름이 두달째 부진한 모습이...   \n",
              "240965  불법행위 '택시기사 삼진아웃제' 6월 시행[중부매일 이민우 기자] 지난달 충북지역의...   \n",
              "240966  도교육청, 오는 3월 예정내달 15일까지 단원 모집[충청일보 이정규기자] 충북도교육...   \n",
              "240967  기고사례자는 2000년생으로서 2019년도 병역판정검사대상자입니다.병역판정검사 일자...   \n",
              "\n",
              "                                              abstractive    extractive  \n",
              "0       사립유치원 회계 비리 문제 규탄에 나섰던 동탄 지역 학부모들 7가족이 모여 지난 4...    [4, 2, 13]  \n",
              "1       정부가 사망시까지 연금을 지급하고 평생거주를 보장하는 '주택연금'의 가입연령을, 현...  [10, 12, 19]  \n",
              "2       충북농협은 농협중앙회가 주관하는 '2회 깨끗하고 아름다운 농촌마을 가꾸기 경진대회'...     [2, 5, 6]  \n",
              "3       인천지방해양수산청은 13인 이상 여객선 선장들의 직무 수행능력 및 사고 발생시 대응...     [1, 4, 8]  \n",
              "4       제주도의회 35명 의원은 15일  5·18광주민주화운동을 폄훼한 자유한국당 소속 김...     [1, 2, 3]  \n",
              "...                                                   ...           ...  \n",
              "240963  전북도는, 도지사 공약사업 실천 및 청년들의 아이디어를 도정에 접목시키기 위해, 2...     [0, 1, 4]  \n",
              "240964  미중 무역갈등이 초래한 세계경제 둔화 및 국제금융시장의 높은 변동성으로 대한민국 경...    [0, 1, 14]  \n",
              "240965  청주시는 오는 6월부터 승차거부, 부당요금 징수 등 불법행위를 최근 2년 이내 3회...     [2, 4, 7]  \n",
              "240966  충북예술교육을 이끌어 갈 충북청소년국악관현악단이 오는 3월 창단을 목표로 도내 초,...    [3, 4, 10]  \n",
              "240967  6월에 병역판정을 받고자 하는 사례자는 전북도내 광주전남지방병무청, 실거주지에서도 ...     [3, 6, 8]  \n",
              "\n",
              "[240968 rows x 6 columns]"
            ]
          },
          "execution_count": 11,
          "metadata": {},
          "output_type": "execute_result"
        }
      ],
      "source": [
        "train_v1 = pd.read_csv('rsc/Data/Training/AI_hub/신문기사/train_v1.csv', index_col = 0)\n",
        "train_v1"
      ]
    },
    {
      "cell_type": "markdown",
      "metadata": {
        "id": "Dwx1OZdnlmJV"
      },
      "source": [
        "# 2. AI_hub 한국어대화요약 데이터 정제\n",
        "\n",
        "++ 다운받은 데이터 모두 압출 풀어서 저장하기\n",
        "\n",
        "## `1. 각 카테고리별 데이터 정제`\n",
        "    카테고리: 개인및관계, 미용과건강, 상거래(쇼핑), 시사교육, 식음료, 여가생활, 일과직업, 주거와생활, 행사"
      ]
    },
    {
      "cell_type": "code",
      "execution_count": null,
      "metadata": {
        "id": "wPQB95KQlmJV"
      },
      "outputs": [],
      "source": [
        "import pandas as pd\n",
        "import json"
      ]
    },
    {
      "cell_type": "markdown",
      "metadata": {
        "id": "yKhZq9dplmJV"
      },
      "source": [
        "1. 정제할 카테고리명 파일 리스트 만들기"
      ]
    },
    {
      "cell_type": "code",
      "execution_count": null,
      "metadata": {
        "id": "rdQ4zZcNlmJV"
      },
      "outputs": [],
      "source": [
        "category = ['개인및관계', '미용과건강', '상거래(쇼핑)', '시사교육', '식음료', '여가생활', '일과직업', '주거와생활', '행사']"
      ]
    },
    {
      "cell_type": "markdown",
      "metadata": {
        "id": "4a3Sqs8hlmJV"
      },
      "source": [
        "2. aihub 에서 다운받은 `.json 파일` 로드\n",
        "3. `text`와 `abstractive` column을 가진 새로운 `new_df` 생성\n",
        "4. new_df의 `text` 에  df의 **body**>**dialogue**>**utterance**를 합친 `text` 저장    \n",
        "   new_df의 `abstractive` 에  df의 **body**>**summary**를 저장한 `abstractive` 저장\n",
        "5. `new_df` 중 null 값이 있는지 확인\n",
        "6. `new_df` 를 `train_v1.csv` 로 저장"
      ]
    },
    {
      "cell_type": "code",
      "source": [
        "for file in category:\n",
        "    with open('/content/drive/MyDrive/BITAmin_nlp/rsc/Data/Training/AI_hub/한국어대화요약/Training'+file+'.json') as f:     #2\n",
        "        json_data = json.load(f)\n",
        "\n",
        "        df = pd.DataFrame(json_data)\n",
        "        df = df['data']\n",
        "\n",
        "        new_df = pd.DataFrame(columns=['text', 'abstractive'])               #3\n",
        "\n",
        "        for i in range(len(df)):\n",
        "            new = pd.DataFrame(df[i]['body']['dialogue'])\n",
        "            text = ' '.join(list(new['utterance']))                          #4\n",
        "            abstractive = df[i]['body']['summary']                           #5\n",
        "\n",
        "            new_df.loc[i, 'text'] = text\n",
        "            new_df.loc[i, 'abstractive'] = abstractive\n",
        "\n",
        "        print(new_df.isnull().sum())                                         #6\n",
        "\n",
        "        new_df.to_csv('rsc/Data/Training/AI_hub/한국어대화요약/'+file+'.csv')"
      ],
      "metadata": {
        "id": "AhvgYJODc72f"
      },
      "execution_count": null,
      "outputs": []
    },
    {
      "cell_type": "code",
      "execution_count": null,
      "metadata": {
        "id": "cGmwhRTSlmJV",
        "outputId": "d24beb60-a31c-4bf9-fae9-1c09fcec87b4"
      },
      "outputs": [
        {
          "data": {
            "text/html": [
              "<div>\n",
              "<style scoped>\n",
              "    .dataframe tbody tr th:only-of-type {\n",
              "        vertical-align: middle;\n",
              "    }\n",
              "\n",
              "    .dataframe tbody tr th {\n",
              "        vertical-align: top;\n",
              "    }\n",
              "\n",
              "    .dataframe thead th {\n",
              "        text-align: right;\n",
              "    }\n",
              "</style>\n",
              "<table border=\"1\" class=\"dataframe\">\n",
              "  <thead>\n",
              "    <tr style=\"text-align: right;\">\n",
              "      <th></th>\n",
              "      <th>text</th>\n",
              "      <th>abstractive</th>\n",
              "    </tr>\n",
              "  </thead>\n",
              "  <tbody>\n",
              "    <tr>\n",
              "      <th>0</th>\n",
              "      <td>금욜에몇시에옴?? 나반차쓰려규하는뎅 움 몰랑 낮에갈겡 오예 &gt;&lt; 야우리에서 뭐먹을까...</td>\n",
              "      <td>금요일에 반차를 쓸 예정이라서 만나자고 하니 사주면 나가고 아니면 늦잠을 자겠다고 한다.</td>\n",
              "    </tr>\n",
              "    <tr>\n",
              "      <th>1</th>\n",
              "      <td>커피 마시면서 가나슈 먹을래? 아! 그럴까????? 먹고 들어가쟈 #@이모티콘# 죠...</td>\n",
              "      <td>빨간 기둥에서 만나서 파이홀에 가서 커피와 가나슈를 먹으려고 한다.</td>\n",
              "    </tr>\n",
              "    <tr>\n",
              "      <th>2</th>\n",
              "      <td>낼 9시15분에 섭웨이에서 봐여ㅎ 영화 픽!! 해놓고ㅋㅋ 넵,,! 조심히가요!! 쌤...</td>\n",
              "      <td>내일 9시 15분에 서브웨이(섭웨이)에서 보자고 하였고, 예매권을 사서 내일 840...</td>\n",
              "    </tr>\n",
              "    <tr>\n",
              "      <th>3</th>\n",
              "      <td>아 뷔페 영업중단됐어...엄마랑 20일이후에 빕스가기로계획했었는데 .....ㅠ 진짜...</td>\n",
              "      <td>뷔페 영업 중단으로 인한 계획 취소에 대해 이야기하고 있다.</td>\n",
              "    </tr>\n",
              "    <tr>\n",
              "      <th>4</th>\n",
              "      <td>ㅋㅋㅋㅋㅋㅋㅋㅋ 비가 생각보다 너무 와서 ㅋㅋㅋ 그래두 우선 간다?! 그친거야,,이...</td>\n",
              "      <td>생각보다 비가 너무 많이 오긴 하지만 조리를 신고 석남역으로 가고 있다.</td>\n",
              "    </tr>\n",
              "    <tr>\n",
              "      <th>...</th>\n",
              "      <td>...</td>\n",
              "      <td>...</td>\n",
              "    </tr>\n",
              "    <tr>\n",
              "      <th>2585</th>\n",
              "      <td>아 #@이름#아 너 토요일은 시간 돼? 아니면 나 토요일에 대구 갈거같긴한데 그때봐...</td>\n",
              "      <td>토요일에 대구에 있을 것 같아서 시간이 되니까 그때 봐도 괜찮을 것 같다.</td>\n",
              "    </tr>\n",
              "    <tr>\n",
              "      <th>2586</th>\n",
              "      <td>전 건대.....내리는중 아 이 얼굴로 ㅋㅋㅋㅋ ㅋㅋ모징... 건대로 간다고 내가 ...</td>\n",
              "      <td>건국대(건대)에서 만나기 위해 약속 장소로 가면서 상황을 알린다.</td>\n",
              "    </tr>\n",
              "    <tr>\n",
              "      <th>2587</th>\n",
              "      <td>동생은 부산첨인가벙가 오늘 장난아니다 그런듯? 애기때와보고 ㅋㅋㅋ 동생 부산와서 좋...</td>\n",
              "      <td>동생이 부산에 와서 좋아한다고 말하면서, 일정 중 광안리가 있어서 같은 동네 쪽이면...</td>\n",
              "    </tr>\n",
              "    <tr>\n",
              "      <th>2588</th>\n",
              "      <td>친구셋은 온양에서 온단말야 아침 5시에 공항버스를 탄대 아 그렇구만 난 우리집근처에...</td>\n",
              "      <td>전철 타고 택시 타야 해서 공항 도착하면 진 빠질 것 같아서 밤 비행기로 바꾸고 싶...</td>\n",
              "    </tr>\n",
              "    <tr>\n",
              "      <th>2589</th>\n",
              "      <td>몇시에 벌래 9시나 10시? 넘 늦나 넘 늦어여 너 신도림가? 9시오떄 나 근로가 ...</td>\n",
              "      <td>저녁에 중화가정에 가기로 해서 정문에서 6시에 만나기로 했다.</td>\n",
              "    </tr>\n",
              "  </tbody>\n",
              "</table>\n",
              "<p>2590 rows × 2 columns</p>\n",
              "</div>"
            ],
            "text/plain": [
              "                                                   text  \\\n",
              "0     금욜에몇시에옴?? 나반차쓰려규하는뎅 움 몰랑 낮에갈겡 오예 >< 야우리에서 뭐먹을까...   \n",
              "1     커피 마시면서 가나슈 먹을래? 아! 그럴까????? 먹고 들어가쟈 #@이모티콘# 죠...   \n",
              "2     낼 9시15분에 섭웨이에서 봐여ㅎ 영화 픽!! 해놓고ㅋㅋ 넵,,! 조심히가요!! 쌤...   \n",
              "3     아 뷔페 영업중단됐어...엄마랑 20일이후에 빕스가기로계획했었는데 .....ㅠ 진짜...   \n",
              "4     ㅋㅋㅋㅋㅋㅋㅋㅋ 비가 생각보다 너무 와서 ㅋㅋㅋ 그래두 우선 간다?! 그친거야,,이...   \n",
              "...                                                 ...   \n",
              "2585  아 #@이름#아 너 토요일은 시간 돼? 아니면 나 토요일에 대구 갈거같긴한데 그때봐...   \n",
              "2586  전 건대.....내리는중 아 이 얼굴로 ㅋㅋㅋㅋ ㅋㅋ모징... 건대로 간다고 내가 ...   \n",
              "2587  동생은 부산첨인가벙가 오늘 장난아니다 그런듯? 애기때와보고 ㅋㅋㅋ 동생 부산와서 좋...   \n",
              "2588  친구셋은 온양에서 온단말야 아침 5시에 공항버스를 탄대 아 그렇구만 난 우리집근처에...   \n",
              "2589  몇시에 벌래 9시나 10시? 넘 늦나 넘 늦어여 너 신도림가? 9시오떄 나 근로가 ...   \n",
              "\n",
              "                                            abstractive  \n",
              "0     금요일에 반차를 쓸 예정이라서 만나자고 하니 사주면 나가고 아니면 늦잠을 자겠다고 한다.  \n",
              "1                 빨간 기둥에서 만나서 파이홀에 가서 커피와 가나슈를 먹으려고 한다.  \n",
              "2     내일 9시 15분에 서브웨이(섭웨이)에서 보자고 하였고, 예매권을 사서 내일 840...  \n",
              "3                     뷔페 영업 중단으로 인한 계획 취소에 대해 이야기하고 있다.  \n",
              "4              생각보다 비가 너무 많이 오긴 하지만 조리를 신고 석남역으로 가고 있다.  \n",
              "...                                                 ...  \n",
              "2585          토요일에 대구에 있을 것 같아서 시간이 되니까 그때 봐도 괜찮을 것 같다.  \n",
              "2586               건국대(건대)에서 만나기 위해 약속 장소로 가면서 상황을 알린다.  \n",
              "2587  동생이 부산에 와서 좋아한다고 말하면서, 일정 중 광안리가 있어서 같은 동네 쪽이면...  \n",
              "2588  전철 타고 택시 타야 해서 공항 도착하면 진 빠질 것 같아서 밤 비행기로 바꾸고 싶...  \n",
              "2589                 저녁에 중화가정에 가기로 해서 정문에서 6시에 만나기로 했다.  \n",
              "\n",
              "[2590 rows x 2 columns]"
            ]
          },
          "execution_count": 97,
          "metadata": {},
          "output_type": "execute_result"
        }
      ],
      "source": [
        "new_df"
      ]
    },
    {
      "cell_type": "markdown",
      "metadata": {
        "id": "PSpWeBQklmJa"
      },
      "source": [
        "## `2. 모든 카테고리 데이터 합치기`"
      ]
    },
    {
      "cell_type": "markdown",
      "metadata": {
        "id": "a-Iw37XMlmJa"
      },
      "source": [
        "1. 합칠 카테고리 리스트 생성"
      ]
    },
    {
      "cell_type": "code",
      "execution_count": null,
      "metadata": {
        "id": "ezSGDbVDlmJa"
      },
      "outputs": [],
      "source": [
        "category = ['개인및관계', '미용과건강', '상거래(쇼핑)', '시사교육', '식음료', '여가생활', '일과직업', '주거와생활', '행사']"
      ]
    },
    {
      "cell_type": "markdown",
      "metadata": {
        "id": "nwJK3pL6lmJa"
      },
      "source": [
        "2. 새로운 dataframe `new` 생성"
      ]
    },
    {
      "cell_type": "code",
      "execution_count": null,
      "metadata": {
        "id": "k1Bo0BHClmJb",
        "outputId": "432da40f-d20b-431f-e041-69b7c76f4f4e"
      },
      "outputs": [
        {
          "data": {
            "text/html": [
              "<div>\n",
              "<style scoped>\n",
              "    .dataframe tbody tr th:only-of-type {\n",
              "        vertical-align: middle;\n",
              "    }\n",
              "\n",
              "    .dataframe tbody tr th {\n",
              "        vertical-align: top;\n",
              "    }\n",
              "\n",
              "    .dataframe thead th {\n",
              "        text-align: right;\n",
              "    }\n",
              "</style>\n",
              "<table border=\"1\" class=\"dataframe\">\n",
              "  <thead>\n",
              "    <tr style=\"text-align: right;\">\n",
              "      <th></th>\n",
              "    </tr>\n",
              "  </thead>\n",
              "  <tbody>\n",
              "  </tbody>\n",
              "</table>\n",
              "</div>"
            ],
            "text/plain": [
              "Empty DataFrame\n",
              "Columns: []\n",
              "Index: []"
            ]
          },
          "execution_count": 36,
          "metadata": {},
          "output_type": "execute_result"
        }
      ],
      "source": [
        "new = pd.DataFrame()\n",
        "new"
      ]
    },
    {
      "cell_type": "markdown",
      "metadata": {
        "id": "I1oXpnGnlmJb"
      },
      "source": [
        "3. 각 카테고리별 csv 파일을 저장한 `df`와 `new` 합침 (각 카테고리 이름과 길이 출력)"
      ]
    },
    {
      "cell_type": "code",
      "execution_count": null,
      "metadata": {
        "id": "vAaiqx1KlmJb",
        "outputId": "f9e27085-6d80-4487-8d27-a0568c861f3c"
      },
      "outputs": [
        {
          "name": "stdout",
          "output_type": "stream",
          "text": [
            "개인및관계 8926\n",
            "미용과건강 2065\n",
            "상거래(쇼핑) 3185\n",
            "시사교육 1855\n",
            "식음료 3675\n",
            "여가생활 4480\n",
            "일과직업 2519\n",
            "주거와생활 5705\n",
            "행사 2590\n"
          ]
        }
      ],
      "source": [
        "for file in category:\n",
        "    df = pd.read_csv('rsc/Data/Training/AI_hub/한국어대화요약/'+file+'.csv', index_col=0)\n",
        "    print(file, len(df))\n",
        "    new = pd.concat([new, df])\n",
        "    new.reset_index(inplace=True, drop=True)"
      ]
    },
    {
      "cell_type": "markdown",
      "metadata": {
        "id": "PsxBnEyHlmJb"
      },
      "source": [
        "4. `new` 의 index 초기화"
      ]
    },
    {
      "cell_type": "code",
      "execution_count": null,
      "metadata": {
        "id": "VMO9l0m2lmJb"
      },
      "outputs": [],
      "source": [
        "new.reset_index(inplace=True, drop=True)"
      ]
    },
    {
      "cell_type": "markdown",
      "metadata": {
        "id": "qe0b5TrjlmJb"
      },
      "source": [
        "5. `new` 출력"
      ]
    },
    {
      "cell_type": "code",
      "execution_count": null,
      "metadata": {
        "id": "jpPQqc5JlmJb",
        "outputId": "c270aeb1-0d34-48de-8762-b0c71d7bcf7c"
      },
      "outputs": [
        {
          "data": {
            "text/html": [
              "<div>\n",
              "<style scoped>\n",
              "    .dataframe tbody tr th:only-of-type {\n",
              "        vertical-align: middle;\n",
              "    }\n",
              "\n",
              "    .dataframe tbody tr th {\n",
              "        vertical-align: top;\n",
              "    }\n",
              "\n",
              "    .dataframe thead th {\n",
              "        text-align: right;\n",
              "    }\n",
              "</style>\n",
              "<table border=\"1\" class=\"dataframe\">\n",
              "  <thead>\n",
              "    <tr style=\"text-align: right;\">\n",
              "      <th></th>\n",
              "      <th>text</th>\n",
              "      <th>abstractive</th>\n",
              "    </tr>\n",
              "  </thead>\n",
              "  <tbody>\n",
              "    <tr>\n",
              "      <th>0</th>\n",
              "      <td>ㅠㅠ퇴근했옹~? 응ㅋㅋㅋㅋ퇴근했지ㅜ 나두30분정도뒤에 퇴근할꺼같앙ㅠ 오♡♡♡♡♡ 우...</td>\n",
              "      <td>퇴근했냐고 물으니 30분 정도 뒤에 퇴근할 것 같다고 하고 둘 다 일찍 간다고 얼른...</td>\n",
              "    </tr>\n",
              "    <tr>\n",
              "      <th>1</th>\n",
              "      <td>아주 고와ㅋㅋㅋㅋ 아주 곱다구....????? #@이모티콘# 근데 #@이름#짱 손 ...</td>\n",
              "      <td>엄지손가락에 상처가 있지만 곱다.</td>\n",
              "    </tr>\n",
              "    <tr>\n",
              "      <th>2</th>\n",
              "      <td>나 금정빠야 금방정에빠져 ㅋㅋㅋㅋㅋㅋㅋㅋㅋㅋㅋㅋㅋㅋㅋㅋㅋㅋㅋㅋㅋㅋㅋㅋㅋㅋㅋㅋㅋㅋㅋ ...</td>\n",
              "      <td>금방 정에 빠진다고 하니 헤어지는 게 너무 힘들다.</td>\n",
              "    </tr>\n",
              "    <tr>\n",
              "      <th>3</th>\n",
              "      <td>아 열받어 ㅎㅎ 난 아.. 저 아우터 넘 충격이야 무슨일이야..? 진짜.....??...</td>\n",
              "      <td>저 아우터는 충격이라고 하자 남자 옷을 어디서 사야 하는지 남자 친구한테 물어봐 달...</td>\n",
              "    </tr>\n",
              "    <tr>\n",
              "      <th>4</th>\n",
              "      <td>#@이름#아 20대때 너무 조급해하지말고, 자신의 가치를 평가절하하지 말고, 계속 ...</td>\n",
              "      <td>성공한 인생은 자기가 좋아하는 걸 찾는 거라고 이야기한다.</td>\n",
              "    </tr>\n",
              "    <tr>\n",
              "      <th>...</th>\n",
              "      <td>...</td>\n",
              "      <td>...</td>\n",
              "    </tr>\n",
              "    <tr>\n",
              "      <th>34995</th>\n",
              "      <td>아 #@이름#아 너 토요일은 시간 돼? 아니면 나 토요일에 대구 갈거같긴한데 그때봐...</td>\n",
              "      <td>토요일에 대구에 있을 것 같아서 시간이 되니까 그때 봐도 괜찮을 것 같다.</td>\n",
              "    </tr>\n",
              "    <tr>\n",
              "      <th>34996</th>\n",
              "      <td>전 건대.....내리는중 아 이 얼굴로 ㅋㅋㅋㅋ ㅋㅋ모징... 건대로 간다고 내가 ...</td>\n",
              "      <td>건국대(건대)에서 만나기 위해 약속 장소로 가면서 상황을 알린다.</td>\n",
              "    </tr>\n",
              "    <tr>\n",
              "      <th>34997</th>\n",
              "      <td>동생은 부산첨인가벙가 오늘 장난아니다 그런듯? 애기때와보고 ㅋㅋㅋ 동생 부산와서 좋...</td>\n",
              "      <td>동생이 부산에 와서 좋아한다고 말하면서, 일정 중 광안리가 있어서 같은 동네 쪽이면...</td>\n",
              "    </tr>\n",
              "    <tr>\n",
              "      <th>34998</th>\n",
              "      <td>친구셋은 온양에서 온단말야 아침 5시에 공항버스를 탄대 아 그렇구만 난 우리집근처에...</td>\n",
              "      <td>전철 타고 택시 타야 해서 공항 도착하면 진 빠질 것 같아서 밤 비행기로 바꾸고 싶...</td>\n",
              "    </tr>\n",
              "    <tr>\n",
              "      <th>34999</th>\n",
              "      <td>몇시에 벌래 9시나 10시? 넘 늦나 넘 늦어여 너 신도림가? 9시오떄 나 근로가 ...</td>\n",
              "      <td>저녁에 중화가정에 가기로 해서 정문에서 6시에 만나기로 했다.</td>\n",
              "    </tr>\n",
              "  </tbody>\n",
              "</table>\n",
              "<p>35000 rows × 2 columns</p>\n",
              "</div>"
            ],
            "text/plain": [
              "                                                    text  \\\n",
              "0      ㅠㅠ퇴근했옹~? 응ㅋㅋㅋㅋ퇴근했지ㅜ 나두30분정도뒤에 퇴근할꺼같앙ㅠ 오♡♡♡♡♡ 우...   \n",
              "1      아주 고와ㅋㅋㅋㅋ 아주 곱다구....????? #@이모티콘# 근데 #@이름#짱 손 ...   \n",
              "2      나 금정빠야 금방정에빠져 ㅋㅋㅋㅋㅋㅋㅋㅋㅋㅋㅋㅋㅋㅋㅋㅋㅋㅋㅋㅋㅋㅋㅋㅋㅋㅋㅋㅋㅋㅋㅋ ...   \n",
              "3      아 열받어 ㅎㅎ 난 아.. 저 아우터 넘 충격이야 무슨일이야..? 진짜.....??...   \n",
              "4      #@이름#아 20대때 너무 조급해하지말고, 자신의 가치를 평가절하하지 말고, 계속 ...   \n",
              "...                                                  ...   \n",
              "34995  아 #@이름#아 너 토요일은 시간 돼? 아니면 나 토요일에 대구 갈거같긴한데 그때봐...   \n",
              "34996  전 건대.....내리는중 아 이 얼굴로 ㅋㅋㅋㅋ ㅋㅋ모징... 건대로 간다고 내가 ...   \n",
              "34997  동생은 부산첨인가벙가 오늘 장난아니다 그런듯? 애기때와보고 ㅋㅋㅋ 동생 부산와서 좋...   \n",
              "34998  친구셋은 온양에서 온단말야 아침 5시에 공항버스를 탄대 아 그렇구만 난 우리집근처에...   \n",
              "34999  몇시에 벌래 9시나 10시? 넘 늦나 넘 늦어여 너 신도림가? 9시오떄 나 근로가 ...   \n",
              "\n",
              "                                             abstractive  \n",
              "0      퇴근했냐고 물으니 30분 정도 뒤에 퇴근할 것 같다고 하고 둘 다 일찍 간다고 얼른...  \n",
              "1                                     엄지손가락에 상처가 있지만 곱다.  \n",
              "2                           금방 정에 빠진다고 하니 헤어지는 게 너무 힘들다.  \n",
              "3      저 아우터는 충격이라고 하자 남자 옷을 어디서 사야 하는지 남자 친구한테 물어봐 달...  \n",
              "4                       성공한 인생은 자기가 좋아하는 걸 찾는 거라고 이야기한다.  \n",
              "...                                                  ...  \n",
              "34995          토요일에 대구에 있을 것 같아서 시간이 되니까 그때 봐도 괜찮을 것 같다.  \n",
              "34996               건국대(건대)에서 만나기 위해 약속 장소로 가면서 상황을 알린다.  \n",
              "34997  동생이 부산에 와서 좋아한다고 말하면서, 일정 중 광안리가 있어서 같은 동네 쪽이면...  \n",
              "34998  전철 타고 택시 타야 해서 공항 도착하면 진 빠질 것 같아서 밤 비행기로 바꾸고 싶...  \n",
              "34999                 저녁에 중화가정에 가기로 해서 정문에서 6시에 만나기로 했다.  \n",
              "\n",
              "[35000 rows x 2 columns]"
            ]
          },
          "execution_count": 39,
          "metadata": {},
          "output_type": "execute_result"
        }
      ],
      "source": [
        "new"
      ]
    },
    {
      "cell_type": "markdown",
      "metadata": {
        "id": "7mT1cOAclmJb"
      },
      "source": [
        "6. `new_df` 를 `train_v1.csv` 로 저장"
      ]
    },
    {
      "cell_type": "code",
      "execution_count": null,
      "metadata": {
        "id": "wYOkTjMRlmJb"
      },
      "outputs": [],
      "source": [
        "new.to_csv('rsc/Data/Training/AI_hub/한국어대화요약/train_v1.csv')"
      ]
    },
    {
      "cell_type": "markdown",
      "metadata": {
        "id": "5Y67facFlmJb"
      },
      "source": [
        "# 3. Dacon 신문기사 데이터 정제"
      ]
    },
    {
      "cell_type": "markdown",
      "metadata": {
        "id": "LABkkgJJlmJb"
      },
      "source": [
        "++ github 오픈소스에 존제하는 dat 폴더 안의 dacon train/test set\n",
        "\n",
        "1. tar.gz 파일 압출 풀어주기"
      ]
    },
    {
      "cell_type": "code",
      "execution_count": null,
      "metadata": {
        "id": "AYNq7NIClmJb",
        "outputId": "bbf9341f-fda0-4a9f-c0d5-25511d534e09"
      },
      "outputs": [
        {
          "name": "stdout",
          "output_type": "stream",
          "text": [
            "train.tsv\r\n"
          ]
        }
      ],
      "source": [
        "!tar -xvf src/KoBART/data/train.tar.gz"
      ]
    },
    {
      "cell_type": "markdown",
      "metadata": {
        "id": "7KpL_gO_lmJb"
      },
      "source": [
        "2. 압축된 train.tsv 파일 rsc 폴더로 이동"
      ]
    },
    {
      "cell_type": "code",
      "execution_count": null,
      "metadata": {
        "id": "gv3poqsSlmJb"
      },
      "outputs": [],
      "source": [
        "mv train.tsv rsc/data/Training/Dacon"
      ]
    },
    {
      "cell_type": "markdown",
      "metadata": {
        "id": "jucONUDelmJc"
      },
      "source": [
        "3. 해당 경로의 tsv 파일을 읽어 `dacon`에 저장"
      ]
    },
    {
      "cell_type": "code",
      "execution_count": null,
      "metadata": {
        "id": "Hl0F_dr2lmJc"
      },
      "outputs": [],
      "source": [
        "dacon = pd.read_csv('rsc/Data/Training/Dacon/train.tsv', sep='\\t')"
      ]
    },
    {
      "cell_type": "markdown",
      "metadata": {
        "id": "dyYltR1plmJc"
      },
      "source": [
        "4. `dacon` 출력"
      ]
    },
    {
      "cell_type": "code",
      "execution_count": null,
      "metadata": {
        "id": "T1BZQa5KlmJc",
        "outputId": "927bc7eb-642a-412f-8550-d492461bc78f"
      },
      "outputs": [
        {
          "data": {
            "text/html": [
              "<div>\n",
              "<style scoped>\n",
              "    .dataframe tbody tr th:only-of-type {\n",
              "        vertical-align: middle;\n",
              "    }\n",
              "\n",
              "    .dataframe tbody tr th {\n",
              "        vertical-align: top;\n",
              "    }\n",
              "\n",
              "    .dataframe thead th {\n",
              "        text-align: right;\n",
              "    }\n",
              "</style>\n",
              "<table border=\"1\" class=\"dataframe\">\n",
              "  <thead>\n",
              "    <tr style=\"text-align: right;\">\n",
              "      <th></th>\n",
              "      <th>news</th>\n",
              "      <th>summary</th>\n",
              "    </tr>\n",
              "  </thead>\n",
              "  <tbody>\n",
              "    <tr>\n",
              "      <th>0</th>\n",
              "      <td>일제 강제징용피해자들이 지난 2월 발의된 ‘근로정신대 피해자 지원법률안’의 조속한 ...</td>\n",
              "      <td>13일 광주시의회 시민 소통실에서 시민단체 '근로정신대 할머니와 함께 하는 시민모임...</td>\n",
              "    </tr>\n",
              "    <tr>\n",
              "      <th>1</th>\n",
              "      <td>문재인 대통령이 이르면 9일 중폭 개각을 단행할 것으로 보인다. 여권 관계자는 8일...</td>\n",
              "      <td>문재인 대통령이 이르면 9일 장관 3~4명, 장관급 3명을 교체하는 개각을 단행하고...</td>\n",
              "    </tr>\n",
              "    <tr>\n",
              "      <th>2</th>\n",
              "      <td>전남 어촌마을 정주여건 개선 ‘탄력’ 해수부 공모서 고흥 득량도·강진 신전 등 4개...</td>\n",
              "      <td>해양수산부 어촌종합개발 거점 개발사업에 전남 고흥 득량도, 강진 신전, 완도 충동,...</td>\n",
              "    </tr>\n",
              "    <tr>\n",
              "      <th>3</th>\n",
              "      <td>여자친구 알몸을 무단으로 촬영해 인터넷 성인 카페에 유포한 남성이 재판에 넘겨졌다....</td>\n",
              "      <td>피해자 A씨는 가해자인 B씨의 엄벌을 촉구하며 국민청원에 피해사실을 공개하였고 결국...</td>\n",
              "    </tr>\n",
              "    <tr>\n",
              "      <th>4</th>\n",
              "      <td>대구시의회 배지숙 의장이 개회를 선언하고 있다. 대구시의회(의장 배지숙)는 14일부...</td>\n",
              "      <td>대구시의회가 14일 제1차 본회의를 시작으로 제265회 임시회를 개최하고 ‘대구시시...</td>\n",
              "    </tr>\n",
              "    <tr>\n",
              "      <th>...</th>\n",
              "      <td>...</td>\n",
              "      <td>...</td>\n",
              "    </tr>\n",
              "    <tr>\n",
              "      <th>34237</th>\n",
              "      <td>민생 구하기부터 나서야” 자유한국당은 7일 더불어민주당을 향해 ‘재판 불복, 민심 ...</td>\n",
              "      <td>김병준 비상대책위원장은 민주당 이해찬 대표가 대선불복은 절대 받아들일 수 없는 것이...</td>\n",
              "    </tr>\n",
              "    <tr>\n",
              "      <th>34238</th>\n",
              "      <td>민주평화통일자문회의 당진시협의회(회장 김광일, 이하 민주평통) 한성희 수석부회장이 ...</td>\n",
              "      <td>지난 20일, 한성희 수석부회장이 국민훈장을 수상했고, 앞서 지난 19일에는 박병원...</td>\n",
              "    </tr>\n",
              "    <tr>\n",
              "      <th>34239</th>\n",
              "      <td>충남도서관 전경 충남도서관이 한국문화공간건축학회로부터 도서관 부문 '2018 한국문...</td>\n",
              "      <td>올해로 4회째를 맞는 한국문화공간상에서 충남 도서관이 공공성과 접근성, 사용자들의 ...</td>\n",
              "    </tr>\n",
              "    <tr>\n",
              "      <th>34240</th>\n",
              "      <td>전남도의회는 10일 열린 제 335회 임시회 본회의에서 이광일(더불어민주당·여수 1...</td>\n",
              "      <td>전남도의회는 헌재가 현행 해상경계선을 인정하고 현행 해상경계선을 경계선으로 확정할 ...</td>\n",
              "    </tr>\n",
              "    <tr>\n",
              "      <th>34241</th>\n",
              "      <td>교육부의 2018년 대학기본역량진단에서 ‘재정지원제한대학’으로 지정된 경남 진주 한...</td>\n",
              "      <td>재정난 악화와 이사장의 비위 행위 등으로 인해 2018년 '재정지원제한대학'으로 지...</td>\n",
              "    </tr>\n",
              "  </tbody>\n",
              "</table>\n",
              "<p>34242 rows × 2 columns</p>\n",
              "</div>"
            ],
            "text/plain": [
              "                                                    news  \\\n",
              "0      일제 강제징용피해자들이 지난 2월 발의된 ‘근로정신대 피해자 지원법률안’의 조속한 ...   \n",
              "1      문재인 대통령이 이르면 9일 중폭 개각을 단행할 것으로 보인다. 여권 관계자는 8일...   \n",
              "2      전남 어촌마을 정주여건 개선 ‘탄력’ 해수부 공모서 고흥 득량도·강진 신전 등 4개...   \n",
              "3      여자친구 알몸을 무단으로 촬영해 인터넷 성인 카페에 유포한 남성이 재판에 넘겨졌다....   \n",
              "4      대구시의회 배지숙 의장이 개회를 선언하고 있다. 대구시의회(의장 배지숙)는 14일부...   \n",
              "...                                                  ...   \n",
              "34237  민생 구하기부터 나서야” 자유한국당은 7일 더불어민주당을 향해 ‘재판 불복, 민심 ...   \n",
              "34238  민주평화통일자문회의 당진시협의회(회장 김광일, 이하 민주평통) 한성희 수석부회장이 ...   \n",
              "34239  충남도서관 전경 충남도서관이 한국문화공간건축학회로부터 도서관 부문 '2018 한국문...   \n",
              "34240  전남도의회는 10일 열린 제 335회 임시회 본회의에서 이광일(더불어민주당·여수 1...   \n",
              "34241  교육부의 2018년 대학기본역량진단에서 ‘재정지원제한대학’으로 지정된 경남 진주 한...   \n",
              "\n",
              "                                                 summary  \n",
              "0      13일 광주시의회 시민 소통실에서 시민단체 '근로정신대 할머니와 함께 하는 시민모임...  \n",
              "1      문재인 대통령이 이르면 9일 장관 3~4명, 장관급 3명을 교체하는 개각을 단행하고...  \n",
              "2      해양수산부 어촌종합개발 거점 개발사업에 전남 고흥 득량도, 강진 신전, 완도 충동,...  \n",
              "3      피해자 A씨는 가해자인 B씨의 엄벌을 촉구하며 국민청원에 피해사실을 공개하였고 결국...  \n",
              "4      대구시의회가 14일 제1차 본회의를 시작으로 제265회 임시회를 개최하고 ‘대구시시...  \n",
              "...                                                  ...  \n",
              "34237  김병준 비상대책위원장은 민주당 이해찬 대표가 대선불복은 절대 받아들일 수 없는 것이...  \n",
              "34238  지난 20일, 한성희 수석부회장이 국민훈장을 수상했고, 앞서 지난 19일에는 박병원...  \n",
              "34239  올해로 4회째를 맞는 한국문화공간상에서 충남 도서관이 공공성과 접근성, 사용자들의 ...  \n",
              "34240  전남도의회는 헌재가 현행 해상경계선을 인정하고 현행 해상경계선을 경계선으로 확정할 ...  \n",
              "34241  재정난 악화와 이사장의 비위 행위 등으로 인해 2018년 '재정지원제한대학'으로 지...  \n",
              "\n",
              "[34242 rows x 2 columns]"
            ]
          },
          "execution_count": 111,
          "metadata": {},
          "output_type": "execute_result"
        }
      ],
      "source": [
        "dacon"
      ]
    },
    {
      "cell_type": "markdown",
      "metadata": {
        "id": "KyMEJO7XlmJc"
      },
      "source": [
        "5. `dacon` 의 **news**-> **text**, **summary**-> **abstractive**로 column의 이름 수정 및 출력"
      ]
    },
    {
      "cell_type": "code",
      "execution_count": null,
      "metadata": {
        "id": "wF-m5ynQlmJc",
        "outputId": "e49d3f4d-cedf-4714-bbcd-3e4ec30bb50f"
      },
      "outputs": [
        {
          "data": {
            "text/html": [
              "<div>\n",
              "<style scoped>\n",
              "    .dataframe tbody tr th:only-of-type {\n",
              "        vertical-align: middle;\n",
              "    }\n",
              "\n",
              "    .dataframe tbody tr th {\n",
              "        vertical-align: top;\n",
              "    }\n",
              "\n",
              "    .dataframe thead th {\n",
              "        text-align: right;\n",
              "    }\n",
              "</style>\n",
              "<table border=\"1\" class=\"dataframe\">\n",
              "  <thead>\n",
              "    <tr style=\"text-align: right;\">\n",
              "      <th></th>\n",
              "      <th>text</th>\n",
              "      <th>abstractive</th>\n",
              "    </tr>\n",
              "  </thead>\n",
              "  <tbody>\n",
              "    <tr>\n",
              "      <th>0</th>\n",
              "      <td>일제 강제징용피해자들이 지난 2월 발의된 ‘근로정신대 피해자 지원법률안’의 조속한 ...</td>\n",
              "      <td>13일 광주시의회 시민 소통실에서 시민단체 '근로정신대 할머니와 함께 하는 시민모임...</td>\n",
              "    </tr>\n",
              "    <tr>\n",
              "      <th>1</th>\n",
              "      <td>문재인 대통령이 이르면 9일 중폭 개각을 단행할 것으로 보인다. 여권 관계자는 8일...</td>\n",
              "      <td>문재인 대통령이 이르면 9일 장관 3~4명, 장관급 3명을 교체하는 개각을 단행하고...</td>\n",
              "    </tr>\n",
              "    <tr>\n",
              "      <th>2</th>\n",
              "      <td>전남 어촌마을 정주여건 개선 ‘탄력’ 해수부 공모서 고흥 득량도·강진 신전 등 4개...</td>\n",
              "      <td>해양수산부 어촌종합개발 거점 개발사업에 전남 고흥 득량도, 강진 신전, 완도 충동,...</td>\n",
              "    </tr>\n",
              "    <tr>\n",
              "      <th>3</th>\n",
              "      <td>여자친구 알몸을 무단으로 촬영해 인터넷 성인 카페에 유포한 남성이 재판에 넘겨졌다....</td>\n",
              "      <td>피해자 A씨는 가해자인 B씨의 엄벌을 촉구하며 국민청원에 피해사실을 공개하였고 결국...</td>\n",
              "    </tr>\n",
              "    <tr>\n",
              "      <th>4</th>\n",
              "      <td>대구시의회 배지숙 의장이 개회를 선언하고 있다. 대구시의회(의장 배지숙)는 14일부...</td>\n",
              "      <td>대구시의회가 14일 제1차 본회의를 시작으로 제265회 임시회를 개최하고 ‘대구시시...</td>\n",
              "    </tr>\n",
              "    <tr>\n",
              "      <th>...</th>\n",
              "      <td>...</td>\n",
              "      <td>...</td>\n",
              "    </tr>\n",
              "    <tr>\n",
              "      <th>34237</th>\n",
              "      <td>민생 구하기부터 나서야” 자유한국당은 7일 더불어민주당을 향해 ‘재판 불복, 민심 ...</td>\n",
              "      <td>김병준 비상대책위원장은 민주당 이해찬 대표가 대선불복은 절대 받아들일 수 없는 것이...</td>\n",
              "    </tr>\n",
              "    <tr>\n",
              "      <th>34238</th>\n",
              "      <td>민주평화통일자문회의 당진시협의회(회장 김광일, 이하 민주평통) 한성희 수석부회장이 ...</td>\n",
              "      <td>지난 20일, 한성희 수석부회장이 국민훈장을 수상했고, 앞서 지난 19일에는 박병원...</td>\n",
              "    </tr>\n",
              "    <tr>\n",
              "      <th>34239</th>\n",
              "      <td>충남도서관 전경 충남도서관이 한국문화공간건축학회로부터 도서관 부문 '2018 한국문...</td>\n",
              "      <td>올해로 4회째를 맞는 한국문화공간상에서 충남 도서관이 공공성과 접근성, 사용자들의 ...</td>\n",
              "    </tr>\n",
              "    <tr>\n",
              "      <th>34240</th>\n",
              "      <td>전남도의회는 10일 열린 제 335회 임시회 본회의에서 이광일(더불어민주당·여수 1...</td>\n",
              "      <td>전남도의회는 헌재가 현행 해상경계선을 인정하고 현행 해상경계선을 경계선으로 확정할 ...</td>\n",
              "    </tr>\n",
              "    <tr>\n",
              "      <th>34241</th>\n",
              "      <td>교육부의 2018년 대학기본역량진단에서 ‘재정지원제한대학’으로 지정된 경남 진주 한...</td>\n",
              "      <td>재정난 악화와 이사장의 비위 행위 등으로 인해 2018년 '재정지원제한대학'으로 지...</td>\n",
              "    </tr>\n",
              "  </tbody>\n",
              "</table>\n",
              "<p>34242 rows × 2 columns</p>\n",
              "</div>"
            ],
            "text/plain": [
              "                                                    text  \\\n",
              "0      일제 강제징용피해자들이 지난 2월 발의된 ‘근로정신대 피해자 지원법률안’의 조속한 ...   \n",
              "1      문재인 대통령이 이르면 9일 중폭 개각을 단행할 것으로 보인다. 여권 관계자는 8일...   \n",
              "2      전남 어촌마을 정주여건 개선 ‘탄력’ 해수부 공모서 고흥 득량도·강진 신전 등 4개...   \n",
              "3      여자친구 알몸을 무단으로 촬영해 인터넷 성인 카페에 유포한 남성이 재판에 넘겨졌다....   \n",
              "4      대구시의회 배지숙 의장이 개회를 선언하고 있다. 대구시의회(의장 배지숙)는 14일부...   \n",
              "...                                                  ...   \n",
              "34237  민생 구하기부터 나서야” 자유한국당은 7일 더불어민주당을 향해 ‘재판 불복, 민심 ...   \n",
              "34238  민주평화통일자문회의 당진시협의회(회장 김광일, 이하 민주평통) 한성희 수석부회장이 ...   \n",
              "34239  충남도서관 전경 충남도서관이 한국문화공간건축학회로부터 도서관 부문 '2018 한국문...   \n",
              "34240  전남도의회는 10일 열린 제 335회 임시회 본회의에서 이광일(더불어민주당·여수 1...   \n",
              "34241  교육부의 2018년 대학기본역량진단에서 ‘재정지원제한대학’으로 지정된 경남 진주 한...   \n",
              "\n",
              "                                             abstractive  \n",
              "0      13일 광주시의회 시민 소통실에서 시민단체 '근로정신대 할머니와 함께 하는 시민모임...  \n",
              "1      문재인 대통령이 이르면 9일 장관 3~4명, 장관급 3명을 교체하는 개각을 단행하고...  \n",
              "2      해양수산부 어촌종합개발 거점 개발사업에 전남 고흥 득량도, 강진 신전, 완도 충동,...  \n",
              "3      피해자 A씨는 가해자인 B씨의 엄벌을 촉구하며 국민청원에 피해사실을 공개하였고 결국...  \n",
              "4      대구시의회가 14일 제1차 본회의를 시작으로 제265회 임시회를 개최하고 ‘대구시시...  \n",
              "...                                                  ...  \n",
              "34237  김병준 비상대책위원장은 민주당 이해찬 대표가 대선불복은 절대 받아들일 수 없는 것이...  \n",
              "34238  지난 20일, 한성희 수석부회장이 국민훈장을 수상했고, 앞서 지난 19일에는 박병원...  \n",
              "34239  올해로 4회째를 맞는 한국문화공간상에서 충남 도서관이 공공성과 접근성, 사용자들의 ...  \n",
              "34240  전남도의회는 헌재가 현행 해상경계선을 인정하고 현행 해상경계선을 경계선으로 확정할 ...  \n",
              "34241  재정난 악화와 이사장의 비위 행위 등으로 인해 2018년 '재정지원제한대학'으로 지...  \n",
              "\n",
              "[34242 rows x 2 columns]"
            ]
          },
          "execution_count": 112,
          "metadata": {},
          "output_type": "execute_result"
        }
      ],
      "source": [
        "dacon.rename(columns={'news':'text', 'summary':'abstractive'}, inplace=True)\n",
        "dacon"
      ]
    },
    {
      "cell_type": "markdown",
      "metadata": {
        "id": "rnCgQ9RXlmJc"
      },
      "source": [
        "6. `dacon` 을 `train_v1.csv` 로 저장"
      ]
    },
    {
      "cell_type": "code",
      "execution_count": null,
      "metadata": {
        "id": "j7tNkP69lmJc"
      },
      "outputs": [],
      "source": [
        "dacon.to_csv('rsc/Data/Training/Dacon/train_v1.csv')"
      ]
    },
    {
      "cell_type": "markdown",
      "metadata": {
        "id": "3aAaAMPAlmJc"
      },
      "source": [
        "7. `train_v1.csv` 를 다시 읽어 출력 (저장 확인용)"
      ]
    },
    {
      "cell_type": "code",
      "execution_count": null,
      "metadata": {
        "id": "6igGyyKLlmJc",
        "outputId": "9a7dc0d1-b9b2-4eef-e4ea-d6a87d23993c"
      },
      "outputs": [
        {
          "data": {
            "text/html": [
              "<div>\n",
              "<style scoped>\n",
              "    .dataframe tbody tr th:only-of-type {\n",
              "        vertical-align: middle;\n",
              "    }\n",
              "\n",
              "    .dataframe tbody tr th {\n",
              "        vertical-align: top;\n",
              "    }\n",
              "\n",
              "    .dataframe thead th {\n",
              "        text-align: right;\n",
              "    }\n",
              "</style>\n",
              "<table border=\"1\" class=\"dataframe\">\n",
              "  <thead>\n",
              "    <tr style=\"text-align: right;\">\n",
              "      <th></th>\n",
              "      <th>text</th>\n",
              "      <th>abstractive</th>\n",
              "    </tr>\n",
              "  </thead>\n",
              "  <tbody>\n",
              "    <tr>\n",
              "      <th>0</th>\n",
              "      <td>계약금 10%·중도금무이자융자·6개월 후 전매가능 기자 아파트 분양시장이 실수요자 ...</td>\n",
              "      <td>태왕의 '성당 태왕아너스 메트로'모델하우스는 초역세권 입지와 변화하는 라이프스타일에...</td>\n",
              "    </tr>\n",
              "    <tr>\n",
              "      <th>1</th>\n",
              "      <td>▲ 박동우 안양동안경찰서 경비교통과 경장 이른 새벽 옆방에서 장난감 소리가 들려온다...</td>\n",
              "      <td>최근 늘어나고 있는 집회시위에서 소음이 문제가 되고 있는데 현행 집회와 시위에 관한...</td>\n",
              "    </tr>\n",
              "    <tr>\n",
              "      <th>2</th>\n",
              "      <td>지난 19일 옛 망주초등학교에서 송귀근 고흥군수와 송우섭 군의회 의장, 귀농·귀촌인...</td>\n",
              "      <td>지난 19일 고흥군에 따르면 송귀근 군수와 주민 등 300여 명이 참석한 가운데 귀...</td>\n",
              "    </tr>\n",
              "    <tr>\n",
              "      <th>3</th>\n",
              "      <td>여자 하이다이빙 금메달을 차지한 호주 이프랜드(오른쪽) 선수가 환호하고 있다. /김...</td>\n",
              "      <td>23일 조선대학교에서 열린 여자 하이다이빙 최종전에서 호주의 이프랜드가 금메달을 차...</td>\n",
              "    </tr>\n",
              "    <tr>\n",
              "      <th>4</th>\n",
              "      <td>시간선택제 공무원 채용 공고, 사이버국가고시센터 11개 부처에서 34명 선발, 5월...</td>\n",
              "      <td>사이버 국가고시센터에서는 시간선택제 공무원을 선발 하는데, 시간선택제 공무원은 통상...</td>\n",
              "    </tr>\n",
              "    <tr>\n",
              "      <th>...</th>\n",
              "      <td>...</td>\n",
              "      <td>...</td>\n",
              "    </tr>\n",
              "    <tr>\n",
              "      <th>8556</th>\n",
              "      <td>▲ 면천면 삼웅2리 유재면 전 노인회장의 송덕비 건립기념식이 지난 7일 진행됐다. ...</td>\n",
              "      <td>면천면 삼웅2리 노인회 회원들이 12년동안 노인회를 이끌어오면서, 노인복지 향상을 ...</td>\n",
              "    </tr>\n",
              "    <tr>\n",
              "      <th>8557</th>\n",
              "      <td>올해 5월 폴란드에서 열리는 국제축구연맹(FIFA) 20세 이하(U-20) 월드컵 ...</td>\n",
              "      <td>FIFA는 오는 25일 올해 5월 폴란드에서 열리는 20세 이하(U-20) 월드컵 ...</td>\n",
              "    </tr>\n",
              "    <tr>\n",
              "      <th>8558</th>\n",
              "      <td>[음성]음성군은 지난 19일 군청 상황실에서 유니세프 아동친화도시 인증에 따른 사업...</td>\n",
              "      <td>음성군은 유니세프 아동친화도시 인증에 따른 사업의 안정적인 정착과 내실 있는 추진을...</td>\n",
              "    </tr>\n",
              "    <tr>\n",
              "      <th>8559</th>\n",
              "      <td>대구지방식품의약품안전청장 직무대리 가정에서도 HACCP 실천해요 요즘 마트나 슈퍼 ...</td>\n",
              "      <td>요즘 마트나 슈퍼 등에서 위생관리를 더욱 철저히 해  HACCP표시가 된 안전식품들...</td>\n",
              "    </tr>\n",
              "    <tr>\n",
              "      <th>8560</th>\n",
              "      <td>광주시, 온라인 플랫폼서 ‘시민제안·토론’ 활발 오픈 40일 동안 제안 130여 건...</td>\n",
              "      <td>광주광역시는 시민 참여형 토론 정책  민주주의 플랫폼 ‘바로소통 광주!’를 오픈한지...</td>\n",
              "    </tr>\n",
              "  </tbody>\n",
              "</table>\n",
              "<p>8561 rows × 2 columns</p>\n",
              "</div>"
            ],
            "text/plain": [
              "                                                   text  \\\n",
              "0     계약금 10%·중도금무이자융자·6개월 후 전매가능 기자 아파트 분양시장이 실수요자 ...   \n",
              "1     ▲ 박동우 안양동안경찰서 경비교통과 경장 이른 새벽 옆방에서 장난감 소리가 들려온다...   \n",
              "2     지난 19일 옛 망주초등학교에서 송귀근 고흥군수와 송우섭 군의회 의장, 귀농·귀촌인...   \n",
              "3     여자 하이다이빙 금메달을 차지한 호주 이프랜드(오른쪽) 선수가 환호하고 있다. /김...   \n",
              "4     시간선택제 공무원 채용 공고, 사이버국가고시센터 11개 부처에서 34명 선발, 5월...   \n",
              "...                                                 ...   \n",
              "8556  ▲ 면천면 삼웅2리 유재면 전 노인회장의 송덕비 건립기념식이 지난 7일 진행됐다. ...   \n",
              "8557  올해 5월 폴란드에서 열리는 국제축구연맹(FIFA) 20세 이하(U-20) 월드컵 ...   \n",
              "8558  [음성]음성군은 지난 19일 군청 상황실에서 유니세프 아동친화도시 인증에 따른 사업...   \n",
              "8559  대구지방식품의약품안전청장 직무대리 가정에서도 HACCP 실천해요 요즘 마트나 슈퍼 ...   \n",
              "8560  광주시, 온라인 플랫폼서 ‘시민제안·토론’ 활발 오픈 40일 동안 제안 130여 건...   \n",
              "\n",
              "                                            abstractive  \n",
              "0     태왕의 '성당 태왕아너스 메트로'모델하우스는 초역세권 입지와 변화하는 라이프스타일에...  \n",
              "1     최근 늘어나고 있는 집회시위에서 소음이 문제가 되고 있는데 현행 집회와 시위에 관한...  \n",
              "2     지난 19일 고흥군에 따르면 송귀근 군수와 주민 등 300여 명이 참석한 가운데 귀...  \n",
              "3     23일 조선대학교에서 열린 여자 하이다이빙 최종전에서 호주의 이프랜드가 금메달을 차...  \n",
              "4     사이버 국가고시센터에서는 시간선택제 공무원을 선발 하는데, 시간선택제 공무원은 통상...  \n",
              "...                                                 ...  \n",
              "8556  면천면 삼웅2리 노인회 회원들이 12년동안 노인회를 이끌어오면서, 노인복지 향상을 ...  \n",
              "8557  FIFA는 오는 25일 올해 5월 폴란드에서 열리는 20세 이하(U-20) 월드컵 ...  \n",
              "8558  음성군은 유니세프 아동친화도시 인증에 따른 사업의 안정적인 정착과 내실 있는 추진을...  \n",
              "8559  요즘 마트나 슈퍼 등에서 위생관리를 더욱 철저히 해  HACCP표시가 된 안전식품들...  \n",
              "8560  광주광역시는 시민 참여형 토론 정책  민주주의 플랫폼 ‘바로소통 광주!’를 오픈한지...  \n",
              "\n",
              "[8561 rows x 2 columns]"
            ]
          },
          "execution_count": 53,
          "metadata": {},
          "output_type": "execute_result"
        }
      ],
      "source": [
        "train_v1 = pd.read_csv('rsc/Data/Training/Dacon/train_v1.csv', index_col = 0)\n",
        "train_v1"
      ]
    },
    {
      "cell_type": "markdown",
      "metadata": {
        "id": "gCHWMj1SlmJc"
      },
      "source": [
        "#### * dev set도 위와 동일하게 경로명만 변경하여 진행"
      ]
    },
    {
      "cell_type": "markdown",
      "metadata": {
        "id": "lZv9yjZvlmJc"
      },
      "source": [
        "# 4. 데이터 크기 확인\n",
        "### train set 크기 (test set 크기)"
      ]
    },
    {
      "cell_type": "markdown",
      "metadata": {
        "id": "K1Evjno7lmJc"
      },
      "source": [
        "1. AIhub  \n",
        "\n",
        "    `신문기사` : 240968 (30121)  \n",
        "    `사설잡지` : 56055 (7007)  \n",
        "    `법률문서` : 24029 (3004)  \n",
        "    `한국어대화요약` : 280000 (35000)  \n",
        "        - 개인및관계 : 71408 (8926)\n",
        "        - 미용과건강 : 16520 (2065)\n",
        "        - 상거래(쇼핑) : 25480 (3185)\n",
        "        - 시사교육 : 14840 (1855)\n",
        "        - 식음료 : 29400 (3675)\n",
        "        - 여가생활 : 35840 (4480)\n",
        "        - 일과직업 : 20152 (2519)\n",
        "        - 주거와생활 : 45640 (5705)\n",
        "        - 행사 : 20720 (2590)\n",
        "    \n",
        "      \n",
        "     \n",
        "2. Dacon  \n",
        "\n",
        "    `신문기사` : 34242 (8561)"
      ]
    }
  ],
  "metadata": {
    "kernelspec": {
      "display_name": "Python 3",
      "language": "python",
      "name": "python3"
    },
    "language_info": {
      "codemirror_mode": {
        "name": "ipython",
        "version": 3
      },
      "file_extension": ".py",
      "mimetype": "text/x-python",
      "name": "python",
      "nbconvert_exporter": "python",
      "pygments_lexer": "ipython3",
      "version": "3.6.9"
    },
    "colab": {
      "provenance": []
    }
  },
  "nbformat": 4,
  "nbformat_minor": 0
}